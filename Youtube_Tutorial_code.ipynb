{
  "nbformat": 4,
  "nbformat_minor": 0,
  "metadata": {
    "colab": {
      "provenance": [],
      "collapsed_sections": [],
      "authorship_tag": "ABX9TyM0mGewUBVgaWwcU6FqlU2j",
      "include_colab_link": true
    },
    "kernelspec": {
      "name": "python3",
      "display_name": "Python 3"
    },
    "language_info": {
      "name": "python"
    }
  },
  "cells": [
    {
      "cell_type": "markdown",
      "metadata": {
        "id": "view-in-github",
        "colab_type": "text"
      },
      "source": [
        "<a href=\"https://colab.research.google.com/github/A-Nafissi/Custom-NLP-pipeline/blob/main/Youtube_Tutorial_code.ipynb\" target=\"_parent\"><img src=\"https://colab.research.google.com/assets/colab-badge.svg\" alt=\"Open In Colab\"/></a>"
      ]
    },
    {
      "cell_type": "markdown",
      "source": [
        "\n",
        "This Youtube video 👉 https://youtu.be/YBqk9RPrg1Y captures my journey, as a linguist and ex translator, to building this custom Natural Language Processing pipeline for sentiment analysis from social media text data👇. \n",
        "A pipeline that converts emojis to text with semantic values, cleans the data from any noise without compromising the semantic or the syntax, parses urls and extract domain from them...\n",
        "The pipeline was coded in way that can be customized and adapted to any, if not all, use cases that deals with text data without any complexities.\n"
      ],
      "metadata": {
        "id": "8UKMhnOyOAiY"
      }
    },
    {
      "cell_type": "markdown",
      "source": [
        "pip installs ⬇️"
      ],
      "metadata": {
        "id": "sAkgLXXxCSzY"
      }
    },
    {
      "cell_type": "code",
      "source": [
        "!pip install googletrans==3.1.0a0\n",
        "!pip install -U spacy\n",
        "!python -m spacy download en_core_web_lg\n",
        "!pip install emoji\n",
        "!pip install better_profanity\n",
        "!pip install -U textblob\n",
        "!python -m textblob.download_corpora\n",
        "!pip install wordcloud"
      ],
      "metadata": {
        "id": "Yzy92WlGCVJw"
      },
      "execution_count": null,
      "outputs": []
    },
    {
      "cell_type": "markdown",
      "source": [
        "Packages importation"
      ],
      "metadata": {
        "id": "rDNLUuiiCWJt"
      }
    },
    {
      "cell_type": "code",
      "source": [
        "import pandas as pd\n",
        "from googletrans import Translator\n",
        "from urllib.parse import urlparse\n",
        "import spacy\n",
        "import emoji\n",
        "import re\n",
        "from better_profanity import profanity\n",
        "from textblob import TextBlob\n",
        "import numpy as np\n",
        "import matplotlib.pyplot as plt\n",
        "from wordcloud import WordCloud, STOPWORDS\n"
      ],
      "metadata": {
        "id": "xyWBmuraCZJL"
      },
      "execution_count": null,
      "outputs": []
    },
    {
      "cell_type": "markdown",
      "source": [
        "Package loading 📦"
      ],
      "metadata": {
        "id": "vFVorpalCZul"
      }
    },
    {
      "cell_type": "code",
      "source": [
        "data = pd.read_csv(\"youtube_coding.csv\", sep=\"\\t\")\n",
        "nlp = spacy.load(\"en_core_web_lg\")"
      ],
      "metadata": {
        "id": "ywI5VA9yCdf8"
      },
      "execution_count": null,
      "outputs": []
    },
    {
      "cell_type": "markdown",
      "source": [
        "Labo 🔬"
      ],
      "metadata": {
        "id": "A0FGCo9PCeOs"
      }
    },
    {
      "cell_type": "code",
      "source": [
        "text = (\"@Ann150000 bootcamp_devops，搞得自己是局外人一样；动不动就得手把手pair-coding；屁事多，今天请假，明天请假….。\")\n",
        "text2 = (\"[100%OFF] Filmora 11/X/9: Zero to https://t.co/xzgGhH2q4n #machinelearning #bigdata #analytics #datascience #ai #iot #iiot #python #tensorflow #javascript #reactjs #cloudcomputing #datascientist #linux #programming #coding #100daysofcode\")\n",
        "text3 =(\"i python and C#, #python  i love love love love  coding which  is gooooooooooooooooodi LIKE DataScience\")\n",
        "text4 = (\"Difference of webStorage between localStorage &amp; sessionStorage c# and C# #Blog #Website #webdesign #design #programming #program #code #coding #html #css #javascript #webStorage #life #IT #hacking #tips #news\")"
      ],
      "metadata": {
        "id": "tn9oWwbhCgUX"
      },
      "execution_count": null,
      "outputs": []
    },
    {
      "cell_type": "code",
      "source": [
        "data_cleaning(text3)"
      ],
      "metadata": {
        "colab": {
          "base_uri": "https://localhost:8080/",
          "height": 36
        },
        "id": "OclxpM9BChED",
        "outputId": "c230305d-4074-4f4b-bd6a-cbc887ccb262"
      },
      "execution_count": null,
      "outputs": [
        {
          "output_type": "execute_result",
          "data": {
            "text/plain": [
              "'I python and c#, python I love love coding which is good I like data science'"
            ],
            "application/vnd.google.colaboratory.intrinsic+json": {
              "type": "string"
            }
          },
          "metadata": {},
          "execution_count": 39
        }
      ]
    },
    {
      "cell_type": "code",
      "source": [
        "data.head()"
      ],
      "metadata": {
        "id": "-ujX4BsMC4zg"
      },
      "execution_count": null,
      "outputs": []
    },
    {
      "cell_type": "code",
      "source": [
        "data.columns"
      ],
      "metadata": {
        "colab": {
          "base_uri": "https://localhost:8080/"
        },
        "id": "2J9B-Yc7C6Ux",
        "outputId": "5799031f-111d-41df-af16-123a7962d80e"
      },
      "execution_count": null,
      "outputs": [
        {
          "output_type": "execute_result",
          "data": {
            "text/plain": [
              "Index(['id', 'conversation_id', 'created_at', 'date', 'time', 'timezone',\n",
              "       'user_id', 'username', 'name', 'place', 'tweet', 'language', 'mentions',\n",
              "       'urls', 'photos', 'replies_count', 'retweets_count', 'likes_count',\n",
              "       'hashtags', 'cashtags', 'link', 'retweet', 'quote_url', 'video',\n",
              "       'thumbnail', 'near', 'geo', 'source', 'user_rt_id', 'user_rt',\n",
              "       'retweet_id', 'reply_to', 'retweet_date', 'translate', 'trans_src',\n",
              "       'trans_dest'],\n",
              "      dtype='object')"
            ]
          },
          "metadata": {},
          "execution_count": 276
        }
      ]
    },
    {
      "cell_type": "code",
      "source": [
        "data.drop(columns=['id', 'conversation_id', 'created_at', 'date', 'time', 'timezone',\n",
        "       'user_id', 'username', 'name', 'place', 'mentions',\n",
        "       'urls', 'photos', 'replies_count', 'retweets_count', 'likes_count',\n",
        "       'hashtags', 'cashtags', 'link', 'retweet', 'quote_url', 'video',\n",
        "       'thumbnail', 'near', 'geo', 'source', 'user_rt_id', 'user_rt',\n",
        "       'retweet_id', 'reply_to', 'retweet_date', 'translate', 'trans_src',\n",
        "       'trans_dest'], inplace=True)"
      ],
      "metadata": {
        "id": "MFjnL3yHDF_q"
      },
      "execution_count": null,
      "outputs": []
    },
    {
      "cell_type": "code",
      "source": [
        "data.sort_values(\"language\", ascending=False)"
      ],
      "metadata": {
        "id": "0Xui-jWdDVJt"
      },
      "execution_count": null,
      "outputs": []
    },
    {
      "cell_type": "markdown",
      "source": [
        "NLP Coding section"
      ],
      "metadata": {
        "id": "0cFeuoKrDzdt"
      }
    },
    {
      "cell_type": "code",
      "source": [
        "#-------Custom dictionary for emojis conversion-------------#\n",
        "\n",
        "my_dict = {\n",
        "    \"❤\":\"love\",\n",
        "    \"❤️\":\"love\",\n",
        "    \"😊\":\"happy\",\n",
        "    \"🥰\":\"happy and loved\",\n",
        "    \"😍\":\"love it\",\n",
        "    \"🙏\":\"hoping\",\n",
        "    \"🤣\":\"very funny\",\n",
        "    \"🥺\":\"sad\",\n",
        "    \"👍\":\"like it\"\n",
        "}"
      ],
      "metadata": {
        "id": "_5F8xIf-Mi6Y"
      },
      "execution_count": null,
      "outputs": []
    },
    {
      "cell_type": "code",
      "source": [
        "def to_english(data):\n",
        "  translator = Translator()\n",
        "  data = translator.translate(data, dest=\"en\")\n",
        "  return data.text"
      ],
      "metadata": {
        "id": "xzmZw9jGD3OT"
      },
      "execution_count": null,
      "outputs": []
    },
    {
      "cell_type": "code",
      "source": [
        "def url_parsing(data):\n",
        "  data = re.sub(r\"\\shttp\\S+\", \"\", data)\n",
        "\n",
        "#-----------get the domain----------------#\n",
        "  # tokenized_data = [token.text for token in nlp(data)]\n",
        "  # parsed_data = [urlparse(token)[1] if token.startswith(\"http\") else token for token in tokenized_data]\n",
        "  # data = \" \".join(parsed_data)\n",
        "  \n",
        "  return data "
      ],
      "metadata": {
        "id": "52s_WRP_GYBZ"
      },
      "execution_count": null,
      "outputs": []
    },
    {
      "cell_type": "code",
      "source": [
        "def emoji_to_text(data):\n",
        "  tokenized_data = [token.text for token in nlp(data)]\n",
        "  custom_text = [my_dict[token] if token in my_dict else emoji.demojize(token) for token in tokenized_data]\n",
        "  data = \" \".join(custom_text)\n",
        "  return data\n"
      ],
      "metadata": {
        "id": "atHvG4_ILA1U"
      },
      "execution_count": null,
      "outputs": []
    },
    {
      "cell_type": "code",
      "source": [
        "def data_cleaning(data):\n",
        "  data = re.sub(r\"@[A-Za-z0-9-_]+\", \"User\", data)  #------to replace @name by User\n",
        "  data = re.sub(\"_|-\", \" \", data)                  #------to remove underscores and dashes\n",
        "  data = re.sub(r\"[^#%'.,+&A-Za-z0-9]\", \" \", data) #------to remove some non-alphanumeric characters\n",
        "  data = re.sub(r\"(?<!C)#\", \"\", data, flags=re.I)  #------to exclude the preceeded by C\n",
        "  data = re.sub(\"'r|\\sr\\s\", \" are \", data)         #------to normalize the \"are\"\n",
        "  data = re.sub(r\"(.)\\1+\", r\"\\1\\1\", data, flags=re.I)#----to remove repeated letters\n",
        "  data = re.sub(r\"(?<![A-Z])(?=[A-Z])\", \" \", data) #------to convert CamelCase to normal case\n",
        "  data = re.sub(r\"\\s(\\w+)\\s\\1+\", r\" \\1\", data, flags=re.I).lower()#-to remove repeated words\n",
        "  data = re.sub(r\"\\s+\", \" \", data)                 #------to remove any extra space\n",
        "  data = re.sub(r\"\\s?(i)\\s\", \" I \", data).lstrip() #------to replace \"i\" with \"I\"\n",
        "#------------profanity filter----------------#\n",
        "  profanity.load_censor_words()\n",
        "  data = profanity.censor(data)\n",
        "\n",
        "  return data\n"
      ],
      "metadata": {
        "id": "5tqn_wW8O_as"
      },
      "execution_count": null,
      "outputs": []
    },
    {
      "cell_type": "code",
      "source": [
        "def sentiment_analysis(data):\n",
        "  data = TextBlob(data)\n",
        "  data = data.sentiment.polarity\n",
        "  if data == 0:\n",
        "    return \"Neutral\"\n",
        "  elif data < 0:\n",
        "    return \"Negative\"\n",
        "  else:\n",
        "    return \"Positive\"\n"
      ],
      "metadata": {
        "id": "vxNjVTkT1OqY"
      },
      "execution_count": null,
      "outputs": []
    },
    {
      "cell_type": "code",
      "source": [
        "def word_cloud(data):\n",
        "\n",
        "  text = data\n",
        "\n",
        "  x, y = np.ogrid[:300, :300]\n",
        "\n",
        "  mask = (x - 150) ** 2 + (y - 150) ** 2 > 130 ** 2\n",
        "  mask = 255 * mask.astype(int)\n",
        "\n",
        "\n",
        "  wc = WordCloud(background_color=\"white\", repeat=True, mask=mask, stopwords=STOPWORDS)\n",
        "  wc.generate(text)\n",
        "\n",
        "  plt.axis(\"off\")\n",
        "  plt.imshow(wc, interpolation=\"bilinear\")\n",
        "  plt.show()\n",
        "\n"
      ],
      "metadata": {
        "id": "-QYP1Jgl3Uak"
      },
      "execution_count": null,
      "outputs": []
    },
    {
      "cell_type": "code",
      "source": [
        "data[\"translation\"] = data[\"tweet\"].apply(to_english)"
      ],
      "metadata": {
        "id": "VEmqf4Lfjp2J"
      },
      "execution_count": null,
      "outputs": []
    },
    {
      "cell_type": "code",
      "source": [
        "data[\"translation\"] = data[\"translation\"].apply(url_parsing)"
      ],
      "metadata": {
        "id": "OFo8pmAgiI5j"
      },
      "execution_count": null,
      "outputs": []
    },
    {
      "cell_type": "code",
      "source": [
        "data[\"translation\"] = data[\"translation\"].apply(emoji_to_text)"
      ],
      "metadata": {
        "id": "IfPf9L8LiKrX"
      },
      "execution_count": null,
      "outputs": []
    },
    {
      "cell_type": "code",
      "source": [
        "data[\"translation\"] = data[\"translation\"].apply(data_cleaning)"
      ],
      "metadata": {
        "id": "jxxqdrjIiZB3"
      },
      "execution_count": null,
      "outputs": []
    },
    {
      "cell_type": "code",
      "source": [
        "data[\"sentiment\"] = data[\"translation\"].apply(sentiment_analysis)"
      ],
      "metadata": {
        "id": "4yDLLLBGkOlD"
      },
      "execution_count": null,
      "outputs": []
    },
    {
      "cell_type": "code",
      "source": [
        "data[[\"tweet\", \"language\", \"sentiment\", \"translation\"]]"
      ],
      "metadata": {
        "colab": {
          "base_uri": "https://localhost:8080/",
          "height": 1634
        },
        "id": "DvbqBT9Us4oa",
        "outputId": "8548f52f-8e75-4d5b-c63c-8c93a099b878"
      },
      "execution_count": null,
      "outputs": [
        {
          "output_type": "execute_result",
          "data": {
            "text/plain": [
              "                                                 tweet language sentiment  \\\n",
              "0    @GEOLIAM5 @Amooti_Mami Are you interested in l...       en  Positive   \n",
              "1    @molecularmusing Currently doing some - not ve...       en  Negative   \n",
              "2    Replace paper forms with̗ a mobile app.  No co...       en  Positive   \n",
              "3    Difference of webStorage between localStorage ...       en   Neutral   \n",
              "4    I’m coding why do you ask?  https://t.co/W8e0Z...       en   Neutral   \n",
              "..                                                 ...      ...       ...   \n",
              "505  I have only messed around with programming bef...       en  Negative   \n",
              "506  First ever pencil and paper coding exam was a ...       en  Positive   \n",
              "507  U think Jamie Dimon or Frank Carone or Jabari ...       en   Neutral   \n",
              "508  I think the difference between data scientist ...       en  Positive   \n",
              "509  @amitmish1 I try to break writing / coding dow...       en  Negative   \n",
              "\n",
              "                                           translation  \n",
              "0    user user are you interested in learning any t...  \n",
              "1    user currently doing some not very hot coding ...  \n",
              "2    replace paper forms with a mobile app . no cod...  \n",
              "3    difference of web storage between local storag...  \n",
              "4                           I m coding why do you ask   \n",
              "..                                                 ...  \n",
              "505  I have only messed around with programming bef...  \n",
              "506  first ever pencil and paper coding exam was a ...  \n",
              "507  u think jamie dimon or frank carone or jabar I...  \n",
              "508  I think the difference between data scientist ...  \n",
              "509  user I try to break writing coding down into s...  \n",
              "\n",
              "[510 rows x 4 columns]"
            ],
            "text/html": [
              "\n",
              "  <div id=\"df-fe1f0841-5761-414e-b0f3-68fac01be4c4\">\n",
              "    <div class=\"colab-df-container\">\n",
              "      <div>\n",
              "<style scoped>\n",
              "    .dataframe tbody tr th:only-of-type {\n",
              "        vertical-align: middle;\n",
              "    }\n",
              "\n",
              "    .dataframe tbody tr th {\n",
              "        vertical-align: top;\n",
              "    }\n",
              "\n",
              "    .dataframe thead th {\n",
              "        text-align: right;\n",
              "    }\n",
              "</style>\n",
              "<table border=\"1\" class=\"dataframe\">\n",
              "  <thead>\n",
              "    <tr style=\"text-align: right;\">\n",
              "      <th></th>\n",
              "      <th>tweet</th>\n",
              "      <th>language</th>\n",
              "      <th>sentiment</th>\n",
              "      <th>translation</th>\n",
              "    </tr>\n",
              "  </thead>\n",
              "  <tbody>\n",
              "    <tr>\n",
              "      <th>0</th>\n",
              "      <td>@GEOLIAM5 @Amooti_Mami Are you interested in l...</td>\n",
              "      <td>en</td>\n",
              "      <td>Positive</td>\n",
              "      <td>user user are you interested in learning any t...</td>\n",
              "    </tr>\n",
              "    <tr>\n",
              "      <th>1</th>\n",
              "      <td>@molecularmusing Currently doing some - not ve...</td>\n",
              "      <td>en</td>\n",
              "      <td>Negative</td>\n",
              "      <td>user currently doing some not very hot coding ...</td>\n",
              "    </tr>\n",
              "    <tr>\n",
              "      <th>2</th>\n",
              "      <td>Replace paper forms with̗ a mobile app.  No co...</td>\n",
              "      <td>en</td>\n",
              "      <td>Positive</td>\n",
              "      <td>replace paper forms with a mobile app . no cod...</td>\n",
              "    </tr>\n",
              "    <tr>\n",
              "      <th>3</th>\n",
              "      <td>Difference of webStorage between localStorage ...</td>\n",
              "      <td>en</td>\n",
              "      <td>Neutral</td>\n",
              "      <td>difference of web storage between local storag...</td>\n",
              "    </tr>\n",
              "    <tr>\n",
              "      <th>4</th>\n",
              "      <td>I’m coding why do you ask?  https://t.co/W8e0Z...</td>\n",
              "      <td>en</td>\n",
              "      <td>Neutral</td>\n",
              "      <td>I m coding why do you ask</td>\n",
              "    </tr>\n",
              "    <tr>\n",
              "      <th>...</th>\n",
              "      <td>...</td>\n",
              "      <td>...</td>\n",
              "      <td>...</td>\n",
              "      <td>...</td>\n",
              "    </tr>\n",
              "    <tr>\n",
              "      <th>505</th>\n",
              "      <td>I have only messed around with programming bef...</td>\n",
              "      <td>en</td>\n",
              "      <td>Negative</td>\n",
              "      <td>I have only messed around with programming bef...</td>\n",
              "    </tr>\n",
              "    <tr>\n",
              "      <th>506</th>\n",
              "      <td>First ever pencil and paper coding exam was a ...</td>\n",
              "      <td>en</td>\n",
              "      <td>Positive</td>\n",
              "      <td>first ever pencil and paper coding exam was a ...</td>\n",
              "    </tr>\n",
              "    <tr>\n",
              "      <th>507</th>\n",
              "      <td>U think Jamie Dimon or Frank Carone or Jabari ...</td>\n",
              "      <td>en</td>\n",
              "      <td>Neutral</td>\n",
              "      <td>u think jamie dimon or frank carone or jabar I...</td>\n",
              "    </tr>\n",
              "    <tr>\n",
              "      <th>508</th>\n",
              "      <td>I think the difference between data scientist ...</td>\n",
              "      <td>en</td>\n",
              "      <td>Positive</td>\n",
              "      <td>I think the difference between data scientist ...</td>\n",
              "    </tr>\n",
              "    <tr>\n",
              "      <th>509</th>\n",
              "      <td>@amitmish1 I try to break writing / coding dow...</td>\n",
              "      <td>en</td>\n",
              "      <td>Negative</td>\n",
              "      <td>user I try to break writing coding down into s...</td>\n",
              "    </tr>\n",
              "  </tbody>\n",
              "</table>\n",
              "<p>510 rows × 4 columns</p>\n",
              "</div>\n",
              "      <button class=\"colab-df-convert\" onclick=\"convertToInteractive('df-fe1f0841-5761-414e-b0f3-68fac01be4c4')\"\n",
              "              title=\"Convert this dataframe to an interactive table.\"\n",
              "              style=\"display:none;\">\n",
              "        \n",
              "  <svg xmlns=\"http://www.w3.org/2000/svg\" height=\"24px\"viewBox=\"0 0 24 24\"\n",
              "       width=\"24px\">\n",
              "    <path d=\"M0 0h24v24H0V0z\" fill=\"none\"/>\n",
              "    <path d=\"M18.56 5.44l.94 2.06.94-2.06 2.06-.94-2.06-.94-.94-2.06-.94 2.06-2.06.94zm-11 1L8.5 8.5l.94-2.06 2.06-.94-2.06-.94L8.5 2.5l-.94 2.06-2.06.94zm10 10l.94 2.06.94-2.06 2.06-.94-2.06-.94-.94-2.06-.94 2.06-2.06.94z\"/><path d=\"M17.41 7.96l-1.37-1.37c-.4-.4-.92-.59-1.43-.59-.52 0-1.04.2-1.43.59L10.3 9.45l-7.72 7.72c-.78.78-.78 2.05 0 2.83L4 21.41c.39.39.9.59 1.41.59.51 0 1.02-.2 1.41-.59l7.78-7.78 2.81-2.81c.8-.78.8-2.07 0-2.86zM5.41 20L4 18.59l7.72-7.72 1.47 1.35L5.41 20z\"/>\n",
              "  </svg>\n",
              "      </button>\n",
              "      \n",
              "  <style>\n",
              "    .colab-df-container {\n",
              "      display:flex;\n",
              "      flex-wrap:wrap;\n",
              "      gap: 12px;\n",
              "    }\n",
              "\n",
              "    .colab-df-convert {\n",
              "      background-color: #E8F0FE;\n",
              "      border: none;\n",
              "      border-radius: 50%;\n",
              "      cursor: pointer;\n",
              "      display: none;\n",
              "      fill: #1967D2;\n",
              "      height: 32px;\n",
              "      padding: 0 0 0 0;\n",
              "      width: 32px;\n",
              "    }\n",
              "\n",
              "    .colab-df-convert:hover {\n",
              "      background-color: #E2EBFA;\n",
              "      box-shadow: 0px 1px 2px rgba(60, 64, 67, 0.3), 0px 1px 3px 1px rgba(60, 64, 67, 0.15);\n",
              "      fill: #174EA6;\n",
              "    }\n",
              "\n",
              "    [theme=dark] .colab-df-convert {\n",
              "      background-color: #3B4455;\n",
              "      fill: #D2E3FC;\n",
              "    }\n",
              "\n",
              "    [theme=dark] .colab-df-convert:hover {\n",
              "      background-color: #434B5C;\n",
              "      box-shadow: 0px 1px 3px 1px rgba(0, 0, 0, 0.15);\n",
              "      filter: drop-shadow(0px 1px 2px rgba(0, 0, 0, 0.3));\n",
              "      fill: #FFFFFF;\n",
              "    }\n",
              "  </style>\n",
              "\n",
              "      <script>\n",
              "        const buttonEl =\n",
              "          document.querySelector('#df-fe1f0841-5761-414e-b0f3-68fac01be4c4 button.colab-df-convert');\n",
              "        buttonEl.style.display =\n",
              "          google.colab.kernel.accessAllowed ? 'block' : 'none';\n",
              "\n",
              "        async function convertToInteractive(key) {\n",
              "          const element = document.querySelector('#df-fe1f0841-5761-414e-b0f3-68fac01be4c4');\n",
              "          const dataTable =\n",
              "            await google.colab.kernel.invokeFunction('convertToInteractive',\n",
              "                                                     [key], {});\n",
              "          if (!dataTable) return;\n",
              "\n",
              "          const docLinkHtml = 'Like what you see? Visit the ' +\n",
              "            '<a target=\"_blank\" href=https://colab.research.google.com/notebooks/data_table.ipynb>data table notebook</a>'\n",
              "            + ' to learn more about interactive tables.';\n",
              "          element.innerHTML = '';\n",
              "          dataTable['output_type'] = 'display_data';\n",
              "          await google.colab.output.renderOutput(dataTable, element);\n",
              "          const docLink = document.createElement('div');\n",
              "          docLink.innerHTML = docLinkHtml;\n",
              "          element.appendChild(docLink);\n",
              "        }\n",
              "      </script>\n",
              "    </div>\n",
              "  </div>\n",
              "  "
            ]
          },
          "metadata": {},
          "execution_count": 308
        }
      ]
    },
    {
      "cell_type": "markdown",
      "source": [
        "Data Visualization 📊"
      ],
      "metadata": {
        "id": "SSppkeDNIBX1"
      }
    },
    {
      "cell_type": "code",
      "source": [
        "all_tweets = \" \".join([tweet for tweet in data.translation])"
      ],
      "metadata": {
        "id": "q198azag2Wx0"
      },
      "execution_count": null,
      "outputs": []
    },
    {
      "cell_type": "code",
      "source": [
        "word_cloud(all_tweets)"
      ],
      "metadata": {
        "colab": {
          "base_uri": "https://localhost:8080/",
          "height": 248
        },
        "id": "DrlY856k4tvD",
        "outputId": "188f6f83-b8e8-41e2-f46e-db2125f37a44"
      },
      "execution_count": null,
      "outputs": [
        {
          "output_type": "display_data",
          "data": {
            "text/plain": [
              "<Figure size 432x288 with 1 Axes>"
            ],
            "image/png": "[encoded data removed]"
          },
          "metadata": {
            "needs_background": "light"
          }
        }
      ]
    },
    {
      "cell_type": "markdown",
      "source": [
        "Debrief 🤝\n",
        "\n",
        "\n",
        "\n",
        "*   What worked well?\n",
        "*   What did you learn from my tutorial?\n",
        "*   Did you manage to customize it for your own use case?\n",
        "\n",
        "\n",
        "\n",
        "\n",
        "\n",
        "\n",
        "\n",
        "\n"
      ],
      "metadata": {
        "id": "kVDqFZfbPpyU"
      }
    },
    {
      "cell_type": "code",
      "source": [],
      "metadata": {
        "id": "BCIbZYBH4081"
      },
      "execution_count": null,
      "outputs": []
    }
  ]
}