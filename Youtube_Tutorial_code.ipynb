{
  "cells": [
    {
      "cell_type": "markdown",
      "metadata": {
        "colab_type": "text",
        "id": "view-in-github"
      },
      "source": [
        "<a href=\"https://colab.research.google.com/github/A-Nafissi/Custom-NLP-pipeline/blob/main/Youtube_Tutorial_code.ipynb\" target=\"_parent\"><img src=\"https://colab.research.google.com/assets/colab-badge.svg\" alt=\"Open In Colab\"/></a>"
      ]
    },
    {
      "cell_type": "markdown",
      "metadata": {
        "id": "8UKMhnOyOAiY"
      },
      "source": [
        "\n",
        "This Youtube video 👉 https://youtu.be/YBqk9RPrg1Y captures my journey, as a Computational linguist and ex-translator, to building this custom Natural Language Processing pipeline for sentiment analysis from social media text data👇. \n",
        "A pipeline that converts emojis to text with semantic values, cleans the data from any noise without compromising the semantic or the syntax, parses urls and extract domain from them...\n",
        "The pipeline was coded in way that can be customized and adapted to any, if not all, use cases that deals with text data without any complexities.\n"
      ]
    },
    {
      "cell_type": "markdown",
      "metadata": {
        "id": "sAkgLXXxCSzY"
      },
      "source": [
        "pip installs ⬇️"
      ]
    },
    {
      "cell_type": "code",
      "execution_count": 1,
      "metadata": {
        "id": "Yzy92WlGCVJw"
      },
      "outputs": [
        {
          "name": "stdout",
          "output_type": "stream",
          "text": [
            "Collecting googletrans==3.1.0a0\n",
            "  Using cached googletrans-3.1.0a0.tar.gz (19 kB)\n",
            "  Preparing metadata (setup.py): started\n",
            "  Preparing metadata (setup.py): finished with status 'done'\n",
            "Collecting httpx==0.13.3\n",
            "  Using cached httpx-0.13.3-py3-none-any.whl (55 kB)\n",
            "Collecting sniffio\n",
            "  Downloading sniffio-1.3.1-py3-none-any.whl (10 kB)\n",
            "Collecting httpcore==0.9.*\n",
            "  Using cached httpcore-0.9.1-py3-none-any.whl (42 kB)\n",
            "Requirement already satisfied: certifi in c:\\users\\nafis\\appdata\\local\\programs\\python\\python39\\lib\\site-packages (from httpx==0.13.3->googletrans==3.1.0a0) (2022.9.24)\n",
            "Collecting idna==2.*\n",
            "  Using cached idna-2.10-py2.py3-none-any.whl (58 kB)\n",
            "Collecting hstspreload\n",
            "  Downloading hstspreload-2024.9.1-py3-none-any.whl (1.2 MB)\n",
            "     ---------------------------------------- 1.2/1.2 MB 7.6 MB/s eta 0:00:00\n",
            "Collecting chardet==3.*\n",
            "  Using cached chardet-3.0.4-py2.py3-none-any.whl (133 kB)\n",
            "Collecting rfc3986<2,>=1.3\n",
            "  Using cached rfc3986-1.5.0-py2.py3-none-any.whl (31 kB)\n",
            "Collecting h11<0.10,>=0.8\n",
            "  Using cached h11-0.9.0-py2.py3-none-any.whl (53 kB)\n",
            "Collecting h2==3.*\n",
            "  Using cached h2-3.2.0-py2.py3-none-any.whl (65 kB)\n",
            "Collecting hyperframe<6,>=5.2.0\n",
            "  Using cached hyperframe-5.2.0-py2.py3-none-any.whl (12 kB)\n",
            "Collecting hpack<4,>=3.0\n",
            "  Using cached hpack-3.0.0-py2.py3-none-any.whl (38 kB)\n",
            "Building wheels for collected packages: googletrans\n",
            "  Building wheel for googletrans (setup.py): started\n",
            "  Building wheel for googletrans (setup.py): finished with status 'done'\n",
            "  Created wheel for googletrans: filename=googletrans-3.1.0a0-py3-none-any.whl size=16417 sha256=4661aa44240922ba477aaf1a633323edb75296f493f97b43a118349ade0d6359\n",
            "  Stored in directory: c:\\users\\nafis\\appdata\\local\\pip\\cache\\wheels\\e1\\a1\\42\\8f744c366846e6c1ea9efe2293260e1f9614a70251076eeef8\n",
            "Successfully built googletrans\n",
            "Installing collected packages: rfc3986, hyperframe, hpack, h11, chardet, sniffio, idna, hstspreload, h2, httpcore, httpx, googletrans\n",
            "  Attempting uninstall: idna\n",
            "    Found existing installation: idna 3.4\n",
            "    Uninstalling idna-3.4:\n",
            "      Successfully uninstalled idna-3.4\n",
            "Successfully installed chardet-3.0.4 googletrans-3.1.0a0 h11-0.9.0 h2-3.2.0 hpack-3.0.0 hstspreload-2024.9.1 httpcore-0.9.1 httpx-0.13.3 hyperframe-5.2.0 idna-2.10 rfc3986-1.5.0 sniffio-1.3.1\n"
          ]
        },
        {
          "name": "stderr",
          "output_type": "stream",
          "text": [
            "\n",
            "[notice] A new release of pip available: 22.3.1 -> 24.2\n",
            "[notice] To update, run: python.exe -m pip install --upgrade pip\n"
          ]
        },
        {
          "name": "stdout",
          "output_type": "stream",
          "text": [
            "Collecting spacy\n",
            "  Downloading spacy-3.7.6-cp39-cp39-win_amd64.whl (12.2 MB)\n",
            "     --------------------------------------- 12.2/12.2 MB 15.2 MB/s eta 0:00:00\n",
            "Collecting spacy-loggers<2.0.0,>=1.0.0\n",
            "  Downloading spacy_loggers-1.0.5-py3-none-any.whl (22 kB)\n",
            "Collecting pydantic!=1.8,!=1.8.1,<3.0.0,>=1.7.4\n",
            "  Downloading pydantic-2.9.1-py3-none-any.whl (434 kB)\n",
            "     -------------------------------------- 434.4/434.4 kB 9.0 MB/s eta 0:00:00\n",
            "Requirement already satisfied: tqdm<5.0.0,>=4.38.0 in c:\\users\\nafis\\appdata\\local\\programs\\python\\python39\\lib\\site-packages (from spacy) (4.64.1)\n",
            "Requirement already satisfied: numpy>=1.19.0 in c:\\users\\nafis\\appdata\\local\\programs\\python\\python39\\lib\\site-packages (from spacy) (1.23.5)\n",
            "Collecting cymem<2.1.0,>=2.0.2\n",
            "  Downloading cymem-2.0.8-cp39-cp39-win_amd64.whl (39 kB)\n",
            "Requirement already satisfied: setuptools in c:\\users\\nafis\\appdata\\local\\programs\\python\\python39\\lib\\site-packages (from spacy) (58.1.0)\n",
            "Collecting murmurhash<1.1.0,>=0.28.0\n",
            "  Downloading murmurhash-1.0.10-cp39-cp39-win_amd64.whl (25 kB)\n",
            "Collecting srsly<3.0.0,>=2.4.3\n",
            "  Downloading srsly-2.4.8-cp39-cp39-win_amd64.whl (483 kB)\n",
            "     ------------------------------------- 483.8/483.8 kB 10.3 MB/s eta 0:00:00\n",
            "Requirement already satisfied: packaging>=20.0 in c:\\users\\nafis\\appdata\\roaming\\python\\python39\\site-packages (from spacy) (21.3)\n",
            "Collecting weasel<0.5.0,>=0.1.0\n",
            "  Downloading weasel-0.4.1-py3-none-any.whl (50 kB)\n",
            "     ---------------------------------------- 50.3/50.3 kB ? eta 0:00:00\n",
            "Requirement already satisfied: jinja2 in c:\\users\\nafis\\appdata\\local\\programs\\python\\python39\\lib\\site-packages (from spacy) (3.1.2)\n",
            "Collecting thinc<8.3.0,>=8.2.2\n",
            "  Downloading thinc-8.2.5-cp39-cp39-win_amd64.whl (1.5 MB)\n",
            "     ---------------------------------------- 1.5/1.5 MB 13.5 MB/s eta 0:00:00\n",
            "Collecting preshed<3.1.0,>=3.0.2\n",
            "  Downloading preshed-3.0.9-cp39-cp39-win_amd64.whl (122 kB)\n",
            "     ---------------------------------------- 122.7/122.7 kB ? eta 0:00:00\n",
            "Collecting wasabi<1.2.0,>=0.9.1\n",
            "  Downloading wasabi-1.1.3-py3-none-any.whl (27 kB)\n",
            "Requirement already satisfied: requests<3.0.0,>=2.13.0 in c:\\users\\nafis\\appdata\\local\\programs\\python\\python39\\lib\\site-packages (from spacy) (2.28.1)\n",
            "Collecting catalogue<2.1.0,>=2.0.6\n",
            "  Downloading catalogue-2.0.10-py3-none-any.whl (17 kB)\n",
            "Collecting spacy-legacy<3.1.0,>=3.0.11\n",
            "  Downloading spacy_legacy-3.0.12-py2.py3-none-any.whl (29 kB)\n",
            "Collecting typer<1.0.0,>=0.3.0\n",
            "  Downloading typer-0.12.5-py3-none-any.whl (47 kB)\n",
            "     ---------------------------------------- 47.3/47.3 kB ? eta 0:00:00\n",
            "Collecting langcodes<4.0.0,>=3.2.0\n",
            "  Downloading langcodes-3.4.0-py3-none-any.whl (182 kB)\n",
            "     ------------------------------------- 182.0/182.0 kB 11.5 MB/s eta 0:00:00\n",
            "Collecting language-data>=1.2\n",
            "  Downloading language_data-1.2.0-py3-none-any.whl (5.4 MB)\n",
            "     ---------------------------------------- 5.4/5.4 MB 13.7 MB/s eta 0:00:00\n",
            "Requirement already satisfied: pyparsing!=3.0.5,>=2.0.2 in c:\\users\\nafis\\appdata\\roaming\\python\\python39\\site-packages (from packaging>=20.0->spacy) (3.0.9)\n",
            "Collecting typing-extensions>=4.6.1\n",
            "  Downloading typing_extensions-4.12.2-py3-none-any.whl (37 kB)\n",
            "Collecting pydantic-core==2.23.3\n",
            "  Downloading pydantic_core-2.23.3-cp39-none-win_amd64.whl (1.9 MB)\n",
            "     ---------------------------------------- 1.9/1.9 MB 12.3 MB/s eta 0:00:00\n",
            "Collecting annotated-types>=0.6.0\n",
            "  Downloading annotated_types-0.7.0-py3-none-any.whl (13 kB)\n",
            "Requirement already satisfied: urllib3<1.27,>=1.21.1 in c:\\users\\nafis\\appdata\\local\\programs\\python\\python39\\lib\\site-packages (from requests<3.0.0,>=2.13.0->spacy) (1.26.13)\n",
            "Requirement already satisfied: certifi>=2017.4.17 in c:\\users\\nafis\\appdata\\local\\programs\\python\\python39\\lib\\site-packages (from requests<3.0.0,>=2.13.0->spacy) (2022.9.24)\n",
            "Requirement already satisfied: charset-normalizer<3,>=2 in c:\\users\\nafis\\appdata\\local\\programs\\python\\python39\\lib\\site-packages (from requests<3.0.0,>=2.13.0->spacy) (2.1.1)\n",
            "Requirement already satisfied: idna<4,>=2.5 in c:\\users\\nafis\\appdata\\local\\programs\\python\\python39\\lib\\site-packages (from requests<3.0.0,>=2.13.0->spacy) (2.10)\n",
            "Collecting confection<1.0.0,>=0.0.1\n",
            "  Downloading confection-0.1.5-py3-none-any.whl (35 kB)\n",
            "Collecting blis<0.8.0,>=0.7.8\n",
            "  Downloading blis-0.7.11-cp39-cp39-win_amd64.whl (6.6 MB)\n",
            "     ---------------------------------------- 6.6/6.6 MB 13.7 MB/s eta 0:00:00\n",
            "Requirement already satisfied: colorama in c:\\users\\nafis\\appdata\\roaming\\python\\python39\\site-packages (from tqdm<5.0.0,>=4.38.0->spacy) (0.4.6)\n",
            "Collecting shellingham>=1.3.0\n",
            "  Downloading shellingham-1.5.4-py2.py3-none-any.whl (9.8 kB)\n",
            "Requirement already satisfied: click>=8.0.0 in c:\\users\\nafis\\appdata\\local\\programs\\python\\python39\\lib\\site-packages (from typer<1.0.0,>=0.3.0->spacy) (8.1.3)\n",
            "Collecting rich>=10.11.0\n",
            "  Downloading rich-13.8.1-py3-none-any.whl (241 kB)\n",
            "     ------------------------------------- 241.6/241.6 kB 15.4 MB/s eta 0:00:00\n",
            "Collecting smart-open<8.0.0,>=5.2.1\n",
            "  Downloading smart_open-7.0.4-py3-none-any.whl (61 kB)\n",
            "     ---------------------------------------- 61.2/61.2 kB 3.4 MB/s eta 0:00:00\n",
            "Collecting cloudpathlib<1.0.0,>=0.7.0\n",
            "  Downloading cloudpathlib-0.19.0-py3-none-any.whl (49 kB)\n",
            "     ---------------------------------------- 49.4/49.4 kB ? eta 0:00:00\n",
            "Requirement already satisfied: MarkupSafe>=2.0 in c:\\users\\nafis\\appdata\\local\\programs\\python\\python39\\lib\\site-packages (from jinja2->spacy) (2.1.1)\n",
            "Collecting marisa-trie>=0.7.7\n",
            "  Downloading marisa_trie-1.2.0-cp39-cp39-win_amd64.whl (152 kB)\n",
            "     ---------------------------------------- 152.5/152.5 kB ? eta 0:00:00\n",
            "Requirement already satisfied: pygments<3.0.0,>=2.13.0 in c:\\users\\nafis\\appdata\\roaming\\python\\python39\\site-packages (from rich>=10.11.0->typer<1.0.0,>=0.3.0->spacy) (2.13.0)\n",
            "Collecting markdown-it-py>=2.2.0\n",
            "  Downloading markdown_it_py-3.0.0-py3-none-any.whl (87 kB)\n",
            "     ---------------------------------------- 87.5/87.5 kB ? eta 0:00:00\n",
            "Requirement already satisfied: wrapt in c:\\users\\nafis\\appdata\\local\\programs\\python\\python39\\lib\\site-packages (from smart-open<8.0.0,>=5.2.1->weasel<0.5.0,>=0.1.0->spacy) (1.14.1)\n",
            "Collecting mdurl~=0.1\n",
            "  Downloading mdurl-0.1.2-py3-none-any.whl (10.0 kB)\n",
            "Installing collected packages: cymem, wasabi, typing-extensions, spacy-loggers, spacy-legacy, smart-open, shellingham, murmurhash, mdurl, marisa-trie, catalogue, blis, annotated-types, srsly, pydantic-core, preshed, markdown-it-py, language-data, cloudpathlib, rich, pydantic, langcodes, typer, confection, weasel, thinc, spacy\n",
            "  Attempting uninstall: typing-extensions\n",
            "    Found existing installation: typing_extensions 4.4.0\n",
            "    Uninstalling typing_extensions-4.4.0:\n",
            "      Successfully uninstalled typing_extensions-4.4.0\n",
            "Successfully installed annotated-types-0.7.0 blis-0.7.11 catalogue-2.0.10 cloudpathlib-0.19.0 confection-0.1.5 cymem-2.0.8 langcodes-3.4.0 language-data-1.2.0 marisa-trie-1.2.0 markdown-it-py-3.0.0 mdurl-0.1.2 murmurhash-1.0.10 preshed-3.0.9 pydantic-2.9.1 pydantic-core-2.23.3 rich-13.8.1 shellingham-1.5.4 smart-open-7.0.4 spacy-3.7.6 spacy-legacy-3.0.12 spacy-loggers-1.0.5 srsly-2.4.8 thinc-8.2.5 typer-0.12.5 typing-extensions-4.12.2 wasabi-1.1.3 weasel-0.4.1\n"
          ]
        },
        {
          "name": "stderr",
          "output_type": "stream",
          "text": [
            "\n",
            "[notice] A new release of pip available: 22.3.1 -> 24.2\n",
            "[notice] To update, run: python.exe -m pip install --upgrade pip\n"
          ]
        },
        {
          "name": "stdout",
          "output_type": "stream",
          "text": [
            "Collecting en-core-web-lg==3.7.1\n",
            "  Downloading https://github.com/explosion/spacy-models/releases/download/en_core_web_lg-3.7.1/en_core_web_lg-3.7.1-py3-none-any.whl (587.7 MB)\n",
            "     -------------------------------------- 587.7/587.7 MB 3.1 MB/s eta 0:00:00\n",
            "Requirement already satisfied: spacy<3.8.0,>=3.7.2 in c:\\users\\nafis\\appdata\\local\\programs\\python\\python39\\lib\\site-packages (from en-core-web-lg==3.7.1) (3.7.6)\n",
            "Requirement already satisfied: pydantic!=1.8,!=1.8.1,<3.0.0,>=1.7.4 in c:\\users\\nafis\\appdata\\local\\programs\\python\\python39\\lib\\site-packages (from spacy<3.8.0,>=3.7.2->en-core-web-lg==3.7.1) (2.9.1)\n",
            "Requirement already satisfied: thinc<8.3.0,>=8.2.2 in c:\\users\\nafis\\appdata\\local\\programs\\python\\python39\\lib\\site-packages (from spacy<3.8.0,>=3.7.2->en-core-web-lg==3.7.1) (8.2.5)\n",
            "Requirement already satisfied: jinja2 in c:\\users\\nafis\\appdata\\local\\programs\\python\\python39\\lib\\site-packages (from spacy<3.8.0,>=3.7.2->en-core-web-lg==3.7.1) (3.1.2)\n",
            "Requirement already satisfied: wasabi<1.2.0,>=0.9.1 in c:\\users\\nafis\\appdata\\local\\programs\\python\\python39\\lib\\site-packages (from spacy<3.8.0,>=3.7.2->en-core-web-lg==3.7.1) (1.1.3)\n",
            "Requirement already satisfied: srsly<3.0.0,>=2.4.3 in c:\\users\\nafis\\appdata\\local\\programs\\python\\python39\\lib\\site-packages (from spacy<3.8.0,>=3.7.2->en-core-web-lg==3.7.1) (2.4.8)\n",
            "Requirement already satisfied: spacy-legacy<3.1.0,>=3.0.11 in c:\\users\\nafis\\appdata\\local\\programs\\python\\python39\\lib\\site-packages (from spacy<3.8.0,>=3.7.2->en-core-web-lg==3.7.1) (3.0.12)\n",
            "Requirement already satisfied: catalogue<2.1.0,>=2.0.6 in c:\\users\\nafis\\appdata\\local\\programs\\python\\python39\\lib\\site-packages (from spacy<3.8.0,>=3.7.2->en-core-web-lg==3.7.1) (2.0.10)\n",
            "Requirement already satisfied: packaging>=20.0 in c:\\users\\nafis\\appdata\\roaming\\python\\python39\\site-packages (from spacy<3.8.0,>=3.7.2->en-core-web-lg==3.7.1) (21.3)\n",
            "Requirement already satisfied: tqdm<5.0.0,>=4.38.0 in c:\\users\\nafis\\appdata\\local\\programs\\python\\python39\\lib\\site-packages (from spacy<3.8.0,>=3.7.2->en-core-web-lg==3.7.1) (4.64.1)\n",
            "Requirement already satisfied: numpy>=1.19.0 in c:\\users\\nafis\\appdata\\local\\programs\\python\\python39\\lib\\site-packages (from spacy<3.8.0,>=3.7.2->en-core-web-lg==3.7.1) (1.23.5)\n",
            "Requirement already satisfied: spacy-loggers<2.0.0,>=1.0.0 in c:\\users\\nafis\\appdata\\local\\programs\\python\\python39\\lib\\site-packages (from spacy<3.8.0,>=3.7.2->en-core-web-lg==3.7.1) (1.0.5)\n",
            "Requirement already satisfied: weasel<0.5.0,>=0.1.0 in c:\\users\\nafis\\appdata\\local\\programs\\python\\python39\\lib\\site-packages (from spacy<3.8.0,>=3.7.2->en-core-web-lg==3.7.1) (0.4.1)\n",
            "Requirement already satisfied: langcodes<4.0.0,>=3.2.0 in c:\\users\\nafis\\appdata\\local\\programs\\python\\python39\\lib\\site-packages (from spacy<3.8.0,>=3.7.2->en-core-web-lg==3.7.1) (3.4.0)\n",
            "Requirement already satisfied: preshed<3.1.0,>=3.0.2 in c:\\users\\nafis\\appdata\\local\\programs\\python\\python39\\lib\\site-packages (from spacy<3.8.0,>=3.7.2->en-core-web-lg==3.7.1) (3.0.9)\n",
            "Requirement already satisfied: setuptools in c:\\users\\nafis\\appdata\\local\\programs\\python\\python39\\lib\\site-packages (from spacy<3.8.0,>=3.7.2->en-core-web-lg==3.7.1) (58.1.0)\n",
            "Requirement already satisfied: murmurhash<1.1.0,>=0.28.0 in c:\\users\\nafis\\appdata\\local\\programs\\python\\python39\\lib\\site-packages (from spacy<3.8.0,>=3.7.2->en-core-web-lg==3.7.1) (1.0.10)\n",
            "Requirement already satisfied: cymem<2.1.0,>=2.0.2 in c:\\users\\nafis\\appdata\\local\\programs\\python\\python39\\lib\\site-packages (from spacy<3.8.0,>=3.7.2->en-core-web-lg==3.7.1) (2.0.8)\n",
            "Requirement already satisfied: requests<3.0.0,>=2.13.0 in c:\\users\\nafis\\appdata\\local\\programs\\python\\python39\\lib\\site-packages (from spacy<3.8.0,>=3.7.2->en-core-web-lg==3.7.1) (2.28.1)\n",
            "Requirement already satisfied: typer<1.0.0,>=0.3.0 in c:\\users\\nafis\\appdata\\local\\programs\\python\\python39\\lib\\site-packages (from spacy<3.8.0,>=3.7.2->en-core-web-lg==3.7.1) (0.12.5)\n",
            "Requirement already satisfied: language-data>=1.2 in c:\\users\\nafis\\appdata\\local\\programs\\python\\python39\\lib\\site-packages (from langcodes<4.0.0,>=3.2.0->spacy<3.8.0,>=3.7.2->en-core-web-lg==3.7.1) (1.2.0)\n",
            "Requirement already satisfied: pyparsing!=3.0.5,>=2.0.2 in c:\\users\\nafis\\appdata\\roaming\\python\\python39\\site-packages (from packaging>=20.0->spacy<3.8.0,>=3.7.2->en-core-web-lg==3.7.1) (3.0.9)\n",
            "Requirement already satisfied: pydantic-core==2.23.3 in c:\\users\\nafis\\appdata\\local\\programs\\python\\python39\\lib\\site-packages (from pydantic!=1.8,!=1.8.1,<3.0.0,>=1.7.4->spacy<3.8.0,>=3.7.2->en-core-web-lg==3.7.1) (2.23.3)\n",
            "Requirement already satisfied: typing-extensions>=4.6.1 in c:\\users\\nafis\\appdata\\local\\programs\\python\\python39\\lib\\site-packages (from pydantic!=1.8,!=1.8.1,<3.0.0,>=1.7.4->spacy<3.8.0,>=3.7.2->en-core-web-lg==3.7.1) (4.12.2)\n",
            "Requirement already satisfied: annotated-types>=0.6.0 in c:\\users\\nafis\\appdata\\local\\programs\\python\\python39\\lib\\site-packages (from pydantic!=1.8,!=1.8.1,<3.0.0,>=1.7.4->spacy<3.8.0,>=3.7.2->en-core-web-lg==3.7.1) (0.7.0)\n",
            "Requirement already satisfied: charset-normalizer<3,>=2 in c:\\users\\nafis\\appdata\\local\\programs\\python\\python39\\lib\\site-packages (from requests<3.0.0,>=2.13.0->spacy<3.8.0,>=3.7.2->en-core-web-lg==3.7.1) (2.1.1)\n",
            "Requirement already satisfied: certifi>=2017.4.17 in c:\\users\\nafis\\appdata\\local\\programs\\python\\python39\\lib\\site-packages (from requests<3.0.0,>=2.13.0->spacy<3.8.0,>=3.7.2->en-core-web-lg==3.7.1) (2022.9.24)\n",
            "Requirement already satisfied: idna<4,>=2.5 in c:\\users\\nafis\\appdata\\local\\programs\\python\\python39\\lib\\site-packages (from requests<3.0.0,>=2.13.0->spacy<3.8.0,>=3.7.2->en-core-web-lg==3.7.1) (2.10)\n",
            "Requirement already satisfied: urllib3<1.27,>=1.21.1 in c:\\users\\nafis\\appdata\\local\\programs\\python\\python39\\lib\\site-packages (from requests<3.0.0,>=2.13.0->spacy<3.8.0,>=3.7.2->en-core-web-lg==3.7.1) (1.26.13)\n",
            "Requirement already satisfied: confection<1.0.0,>=0.0.1 in c:\\users\\nafis\\appdata\\local\\programs\\python\\python39\\lib\\site-packages (from thinc<8.3.0,>=8.2.2->spacy<3.8.0,>=3.7.2->en-core-web-lg==3.7.1) (0.1.5)\n",
            "Requirement already satisfied: blis<0.8.0,>=0.7.8 in c:\\users\\nafis\\appdata\\local\\programs\\python\\python39\\lib\\site-packages (from thinc<8.3.0,>=8.2.2->spacy<3.8.0,>=3.7.2->en-core-web-lg==3.7.1) (0.7.11)\n",
            "Requirement already satisfied: colorama in c:\\users\\nafis\\appdata\\roaming\\python\\python39\\site-packages (from tqdm<5.0.0,>=4.38.0->spacy<3.8.0,>=3.7.2->en-core-web-lg==3.7.1) (0.4.6)\n",
            "Requirement already satisfied: shellingham>=1.3.0 in c:\\users\\nafis\\appdata\\local\\programs\\python\\python39\\lib\\site-packages (from typer<1.0.0,>=0.3.0->spacy<3.8.0,>=3.7.2->en-core-web-lg==3.7.1) (1.5.4)\n",
            "Requirement already satisfied: click>=8.0.0 in c:\\users\\nafis\\appdata\\local\\programs\\python\\python39\\lib\\site-packages (from typer<1.0.0,>=0.3.0->spacy<3.8.0,>=3.7.2->en-core-web-lg==3.7.1) (8.1.3)\n",
            "Requirement already satisfied: rich>=10.11.0 in c:\\users\\nafis\\appdata\\local\\programs\\python\\python39\\lib\\site-packages (from typer<1.0.0,>=0.3.0->spacy<3.8.0,>=3.7.2->en-core-web-lg==3.7.1) (13.8.1)\n",
            "Requirement already satisfied: smart-open<8.0.0,>=5.2.1 in c:\\users\\nafis\\appdata\\local\\programs\\python\\python39\\lib\\site-packages (from weasel<0.5.0,>=0.1.0->spacy<3.8.0,>=3.7.2->en-core-web-lg==3.7.1) (7.0.4)\n",
            "Requirement already satisfied: cloudpathlib<1.0.0,>=0.7.0 in c:\\users\\nafis\\appdata\\local\\programs\\python\\python39\\lib\\site-packages (from weasel<0.5.0,>=0.1.0->spacy<3.8.0,>=3.7.2->en-core-web-lg==3.7.1) (0.19.0)\n",
            "Requirement already satisfied: MarkupSafe>=2.0 in c:\\users\\nafis\\appdata\\local\\programs\\python\\python39\\lib\\site-packages (from jinja2->spacy<3.8.0,>=3.7.2->en-core-web-lg==3.7.1) (2.1.1)\n",
            "Requirement already satisfied: marisa-trie>=0.7.7 in c:\\users\\nafis\\appdata\\local\\programs\\python\\python39\\lib\\site-packages (from language-data>=1.2->langcodes<4.0.0,>=3.2.0->spacy<3.8.0,>=3.7.2->en-core-web-lg==3.7.1) (1.2.0)\n",
            "Requirement already satisfied: pygments<3.0.0,>=2.13.0 in c:\\users\\nafis\\appdata\\roaming\\python\\python39\\site-packages (from rich>=10.11.0->typer<1.0.0,>=0.3.0->spacy<3.8.0,>=3.7.2->en-core-web-lg==3.7.1) (2.13.0)\n",
            "Requirement already satisfied: markdown-it-py>=2.2.0 in c:\\users\\nafis\\appdata\\local\\programs\\python\\python39\\lib\\site-packages (from rich>=10.11.0->typer<1.0.0,>=0.3.0->spacy<3.8.0,>=3.7.2->en-core-web-lg==3.7.1) (3.0.0)\n",
            "Requirement already satisfied: wrapt in c:\\users\\nafis\\appdata\\local\\programs\\python\\python39\\lib\\site-packages (from smart-open<8.0.0,>=5.2.1->weasel<0.5.0,>=0.1.0->spacy<3.8.0,>=3.7.2->en-core-web-lg==3.7.1) (1.14.1)\n",
            "Requirement already satisfied: mdurl~=0.1 in c:\\users\\nafis\\appdata\\local\\programs\\python\\python39\\lib\\site-packages (from markdown-it-py>=2.2.0->rich>=10.11.0->typer<1.0.0,>=0.3.0->spacy<3.8.0,>=3.7.2->en-core-web-lg==3.7.1) (0.1.2)\n",
            "Installing collected packages: en-core-web-lg\n",
            "Successfully installed en-core-web-lg-3.7.1\n",
            "\u001b[38;5;2m✔ Download and installation successful\u001b[0m\n",
            "You can now load the package via spacy.load('en_core_web_lg')\n"
          ]
        },
        {
          "name": "stderr",
          "output_type": "stream",
          "text": [
            "\n",
            "[notice] A new release of pip available: 22.3.1 -> 24.2\n",
            "[notice] To update, run: python.exe -m pip install --upgrade pip\n"
          ]
        },
        {
          "name": "stdout",
          "output_type": "stream",
          "text": [
            "Collecting emoji\n",
            "  Downloading emoji-2.12.1-py3-none-any.whl (431 kB)\n",
            "     -------------------------------------- 431.4/431.4 kB 4.5 MB/s eta 0:00:00\n",
            "Requirement already satisfied: typing-extensions>=4.7.0 in c:\\users\\nafis\\appdata\\local\\programs\\python\\python39\\lib\\site-packages (from emoji) (4.12.2)\n",
            "Installing collected packages: emoji\n",
            "Successfully installed emoji-2.12.1\n"
          ]
        },
        {
          "name": "stderr",
          "output_type": "stream",
          "text": [
            "\n",
            "[notice] A new release of pip available: 22.3.1 -> 24.2\n",
            "[notice] To update, run: python.exe -m pip install --upgrade pip\n"
          ]
        },
        {
          "name": "stdout",
          "output_type": "stream",
          "text": [
            "Collecting better_profanity\n",
            "  Downloading better_profanity-0.7.0-py3-none-any.whl (46 kB)\n",
            "     ---------------------------------------- 46.1/46.1 kB 2.4 MB/s eta 0:00:00\n",
            "Installing collected packages: better_profanity\n",
            "Successfully installed better_profanity-0.7.0\n"
          ]
        },
        {
          "name": "stderr",
          "output_type": "stream",
          "text": [
            "\n",
            "[notice] A new release of pip available: 22.3.1 -> 24.2\n",
            "[notice] To update, run: python.exe -m pip install --upgrade pip\n"
          ]
        },
        {
          "name": "stdout",
          "output_type": "stream",
          "text": [
            "Collecting textblob\n",
            "  Downloading textblob-0.18.0.post0-py3-none-any.whl (626 kB)\n",
            "     -------------------------------------- 626.3/626.3 kB 5.7 MB/s eta 0:00:00\n",
            "Collecting nltk>=3.8\n",
            "  Downloading nltk-3.9.1-py3-none-any.whl (1.5 MB)\n",
            "     ---------------------------------------- 1.5/1.5 MB 13.7 MB/s eta 0:00:00\n",
            "Requirement already satisfied: tqdm in c:\\users\\nafis\\appdata\\local\\programs\\python\\python39\\lib\\site-packages (from nltk>=3.8->textblob) (4.64.1)\n",
            "Requirement already satisfied: joblib in c:\\users\\nafis\\appdata\\local\\programs\\python\\python39\\lib\\site-packages (from nltk>=3.8->textblob) (1.2.0)\n",
            "Requirement already satisfied: click in c:\\users\\nafis\\appdata\\local\\programs\\python\\python39\\lib\\site-packages (from nltk>=3.8->textblob) (8.1.3)\n",
            "Requirement already satisfied: regex>=2021.8.3 in c:\\users\\nafis\\appdata\\local\\programs\\python\\python39\\lib\\site-packages (from nltk>=3.8->textblob) (2022.10.31)\n",
            "Requirement already satisfied: colorama in c:\\users\\nafis\\appdata\\roaming\\python\\python39\\site-packages (from click->nltk>=3.8->textblob) (0.4.6)\n",
            "Installing collected packages: nltk, textblob\n",
            "  Attempting uninstall: nltk\n",
            "    Found existing installation: nltk 3.7\n",
            "    Uninstalling nltk-3.7:\n",
            "      Successfully uninstalled nltk-3.7\n",
            "Successfully installed nltk-3.9.1 textblob-0.18.0.post0\n"
          ]
        },
        {
          "name": "stderr",
          "output_type": "stream",
          "text": [
            "\n",
            "[notice] A new release of pip available: 22.3.1 -> 24.2\n",
            "[notice] To update, run: python.exe -m pip install --upgrade pip\n"
          ]
        },
        {
          "name": "stdout",
          "output_type": "stream",
          "text": [
            "Finished.\n"
          ]
        },
        {
          "name": "stderr",
          "output_type": "stream",
          "text": [
            "[nltk_data] Downloading package brown to\n",
            "[nltk_data]     C:\\Users\\nafis\\AppData\\Roaming\\nltk_data...\n",
            "[nltk_data]   Unzipping corpora\\brown.zip.\n",
            "[nltk_data] Downloading package punkt to\n",
            "[nltk_data]     C:\\Users\\nafis\\AppData\\Roaming\\nltk_data...\n",
            "[nltk_data]   Package punkt is already up-to-date!\n",
            "[nltk_data] Downloading package wordnet to\n",
            "[nltk_data]     C:\\Users\\nafis\\AppData\\Roaming\\nltk_data...\n",
            "[nltk_data]   Package wordnet is already up-to-date!\n",
            "[nltk_data] Downloading package averaged_perceptron_tagger to\n",
            "[nltk_data]     C:\\Users\\nafis\\AppData\\Roaming\\nltk_data...\n",
            "[nltk_data]   Unzipping taggers\\averaged_perceptron_tagger.zip.\n",
            "[nltk_data] Downloading package conll2000 to\n",
            "[nltk_data]     C:\\Users\\nafis\\AppData\\Roaming\\nltk_data...\n",
            "[nltk_data]   Unzipping corpora\\conll2000.zip.\n",
            "[nltk_data] Downloading package movie_reviews to\n",
            "[nltk_data]     C:\\Users\\nafis\\AppData\\Roaming\\nltk_data...\n",
            "[nltk_data]   Unzipping corpora\\movie_reviews.zip.\n"
          ]
        },
        {
          "name": "stdout",
          "output_type": "stream",
          "text": [
            "Collecting wordcloud\n",
            "  Downloading wordcloud-1.9.3-cp39-cp39-win_amd64.whl (300 kB)\n",
            "     -------------------------------------- 300.6/300.6 kB 4.6 MB/s eta 0:00:00\n",
            "Collecting matplotlib\n",
            "  Downloading matplotlib-3.9.2-cp39-cp39-win_amd64.whl (7.8 MB)\n",
            "     ---------------------------------------- 7.8/7.8 MB 21.7 MB/s eta 0:00:00\n",
            "Requirement already satisfied: numpy>=1.6.1 in c:\\users\\nafis\\appdata\\local\\programs\\python\\python39\\lib\\site-packages (from wordcloud) (1.23.5)\n",
            "Requirement already satisfied: pillow in c:\\users\\nafis\\appdata\\local\\programs\\python\\python39\\lib\\site-packages (from wordcloud) (9.3.0)\n",
            "Collecting kiwisolver>=1.3.1\n",
            "  Downloading kiwisolver-1.4.7-cp39-cp39-win_amd64.whl (55 kB)\n",
            "     ---------------------------------------- 55.8/55.8 kB 2.9 MB/s eta 0:00:00\n",
            "Collecting importlib-resources>=3.2.0\n",
            "  Downloading importlib_resources-6.4.5-py3-none-any.whl (36 kB)\n",
            "Collecting fonttools>=4.22.0\n",
            "  Downloading fonttools-4.53.1-cp39-cp39-win_amd64.whl (2.2 MB)\n",
            "     ---------------------------------------- 2.2/2.2 MB 17.6 MB/s eta 0:00:00\n",
            "Collecting cycler>=0.10\n",
            "  Downloading cycler-0.12.1-py3-none-any.whl (8.3 kB)\n",
            "Requirement already satisfied: packaging>=20.0 in c:\\users\\nafis\\appdata\\roaming\\python\\python39\\site-packages (from matplotlib->wordcloud) (21.3)\n",
            "Collecting contourpy>=1.0.1\n",
            "  Downloading contourpy-1.3.0-cp39-cp39-win_amd64.whl (211 kB)\n",
            "     -------------------------------------- 211.8/211.8 kB 6.3 MB/s eta 0:00:00\n",
            "Requirement already satisfied: pyparsing>=2.3.1 in c:\\users\\nafis\\appdata\\roaming\\python\\python39\\site-packages (from matplotlib->wordcloud) (3.0.9)\n",
            "Requirement already satisfied: python-dateutil>=2.7 in c:\\users\\nafis\\appdata\\roaming\\python\\python39\\site-packages (from matplotlib->wordcloud) (2.8.2)\n",
            "Requirement already satisfied: zipp>=3.1.0 in c:\\users\\nafis\\appdata\\local\\programs\\python\\python39\\lib\\site-packages (from importlib-resources>=3.2.0->matplotlib->wordcloud) (3.11.0)\n",
            "Requirement already satisfied: six>=1.5 in c:\\users\\nafis\\appdata\\roaming\\python\\python39\\site-packages (from python-dateutil>=2.7->matplotlib->wordcloud) (1.16.0)\n",
            "Installing collected packages: kiwisolver, importlib-resources, fonttools, cycler, contourpy, matplotlib, wordcloud\n",
            "Successfully installed contourpy-1.3.0 cycler-0.12.1 fonttools-4.53.1 importlib-resources-6.4.5 kiwisolver-1.4.7 matplotlib-3.9.2 wordcloud-1.9.3\n"
          ]
        },
        {
          "name": "stderr",
          "output_type": "stream",
          "text": [
            "\n",
            "[notice] A new release of pip available: 22.3.1 -> 24.2\n",
            "[notice] To update, run: python.exe -m pip install --upgrade pip\n"
          ]
        }
      ],
      "source": [
        "!pip install googletrans==3.1.0a0\n",
        "!pip install -U spacy\n",
        "!python -m spacy download en_core_web_lg\n",
        "!pip install emoji\n",
        "!pip install better_profanity\n",
        "!pip install -U textblob\n",
        "!python -m textblob.download_corpora\n",
        "!pip install wordcloud"
      ]
    },
    {
      "cell_type": "markdown",
      "metadata": {
        "id": "rDNLUuiiCWJt"
      },
      "source": [
        "Packages importation"
      ]
    },
    {
      "cell_type": "code",
      "execution_count": 2,
      "metadata": {
        "id": "xyWBmuraCZJL"
      },
      "outputs": [
        {
          "name": "stderr",
          "output_type": "stream",
          "text": [
            "c:\\Users\\nafis\\AppData\\Local\\Programs\\Python\\Python39\\lib\\site-packages\\tqdm\\auto.py:22: TqdmWarning: IProgress not found. Please update jupyter and ipywidgets. See https://ipywidgets.readthedocs.io/en/stable/user_install.html\n",
            "  from .autonotebook import tqdm as notebook_tqdm\n"
          ]
        },
        {
          "ename": "ModuleNotFoundError",
          "evalue": "No module named 'seaborn'",
          "output_type": "error",
          "traceback": [
            "\u001b[1;31m---------------------------------------------------------------------------\u001b[0m",
            "\u001b[1;31mModuleNotFoundError\u001b[0m                       Traceback (most recent call last)",
            "Cell \u001b[1;32mIn [2], line 12\u001b[0m\n\u001b[0;32m     10\u001b[0m \u001b[38;5;28;01mimport\u001b[39;00m \u001b[38;5;21;01mmatplotlib\u001b[39;00m\u001b[38;5;21;01m.\u001b[39;00m\u001b[38;5;21;01mpyplot\u001b[39;00m \u001b[38;5;28;01mas\u001b[39;00m \u001b[38;5;21;01mplt\u001b[39;00m\n\u001b[0;32m     11\u001b[0m \u001b[38;5;28;01mfrom\u001b[39;00m \u001b[38;5;21;01mwordcloud\u001b[39;00m \u001b[38;5;28;01mimport\u001b[39;00m WordCloud, STOPWORDS\n\u001b[1;32m---> 12\u001b[0m \u001b[38;5;28;01mimport\u001b[39;00m \u001b[38;5;21;01mseaborn\u001b[39;00m \u001b[38;5;28;01mas\u001b[39;00m \u001b[38;5;21;01msns\u001b[39;00m\n",
            "\u001b[1;31mModuleNotFoundError\u001b[0m: No module named 'seaborn'"
          ]
        }
      ],
      "source": [
        "import pandas as pd\n",
        "from googletrans import Translator\n",
        "from urllib.parse import urlparse\n",
        "import spacy\n",
        "import emoji\n",
        "import re\n",
        "from better_profanity import profanity\n",
        "from textblob import TextBlob\n",
        "import numpy as np\n",
        "import matplotlib.pyplot as plt\n",
        "from wordcloud import WordCloud, STOPWORDS\n",
        "import seaborn as sns\n"
      ]
    },
    {
      "cell_type": "markdown",
      "metadata": {
        "id": "vFVorpalCZul"
      },
      "source": [
        "Package loading 📦"
      ]
    },
    {
      "cell_type": "code",
      "execution_count": 3,
      "metadata": {
        "id": "ywI5VA9yCdf8"
      },
      "outputs": [],
      "source": [
        "data = pd.read_csv(\"youtube_coding.csv\", sep=\"\\t\")\n",
        "nlp = spacy.load(\"en_core_web_lg\")"
      ]
    },
    {
      "cell_type": "markdown",
      "metadata": {
        "id": "A0FGCo9PCeOs"
      },
      "source": [
        "Labo 🔬"
      ]
    },
    {
      "cell_type": "code",
      "execution_count": 4,
      "metadata": {
        "id": "tn9oWwbhCgUX"
      },
      "outputs": [],
      "source": [
        "text = (\"@Ann150000 bootcamp_devops，搞得自己是局外人一样；动不动就得手把手pair-coding；屁事多，今天请假，明天请假….。\")\n",
        "text2 = (\"[100%OFF] Filmora 11/X/9: Zero to https://t.co/xzgGhH2q4n #machinelearning #bigdata #analytics #datascience #ai #iot #iiot #python #tensorflow #javascript #reactjs #cloudcomputing #datascientist #linux #programming #coding #100daysofcode\")\n",
        "text3 =(\"i python and C#, #python  i love love love love  coding which  is gooooooooooooooooodi LIKE DataScience\")\n",
        "text4 = (\"Difference of webStorage between localStorage &amp; sessionStorage c# and C# #Blog #Website #webdesign #design #programming #program #code #coding #html #css #javascript #webStorage #life #IT #hacking #tips #news\")"
      ]
    },
    {
      "cell_type": "code",
      "execution_count": 5,
      "metadata": {
        "colab": {
          "base_uri": "https://localhost:8080/",
          "height": 36
        },
        "id": "OclxpM9BChED",
        "outputId": "c230305d-4074-4f4b-bd6a-cbc887ccb262"
      },
      "outputs": [
        {
          "ename": "NameError",
          "evalue": "name 'data_cleaning' is not defined",
          "output_type": "error",
          "traceback": [
            "\u001b[1;31m---------------------------------------------------------------------------\u001b[0m",
            "\u001b[1;31mNameError\u001b[0m                                 Traceback (most recent call last)",
            "Cell \u001b[1;32mIn [5], line 1\u001b[0m\n\u001b[1;32m----> 1\u001b[0m \u001b[43mdata_cleaning\u001b[49m(text3)\n",
            "\u001b[1;31mNameError\u001b[0m: name 'data_cleaning' is not defined"
          ]
        }
      ],
      "source": [
        "data_cleaning(text3)"
      ]
    },
    {
      "cell_type": "code",
      "execution_count": 6,
      "metadata": {
        "id": "-ujX4BsMC4zg"
      },
      "outputs": [
        {
          "data": {
            "text/html": [
              "<div>\n",
              "<style scoped>\n",
              "    .dataframe tbody tr th:only-of-type {\n",
              "        vertical-align: middle;\n",
              "    }\n",
              "\n",
              "    .dataframe tbody tr th {\n",
              "        vertical-align: top;\n",
              "    }\n",
              "\n",
              "    .dataframe thead th {\n",
              "        text-align: right;\n",
              "    }\n",
              "</style>\n",
              "<table border=\"1\" class=\"dataframe\">\n",
              "  <thead>\n",
              "    <tr style=\"text-align: right;\">\n",
              "      <th></th>\n",
              "      <th>id</th>\n",
              "      <th>conversation_id</th>\n",
              "      <th>created_at</th>\n",
              "      <th>date</th>\n",
              "      <th>time</th>\n",
              "      <th>timezone</th>\n",
              "      <th>user_id</th>\n",
              "      <th>username</th>\n",
              "      <th>name</th>\n",
              "      <th>place</th>\n",
              "      <th>...</th>\n",
              "      <th>geo</th>\n",
              "      <th>source</th>\n",
              "      <th>user_rt_id</th>\n",
              "      <th>user_rt</th>\n",
              "      <th>retweet_id</th>\n",
              "      <th>reply_to</th>\n",
              "      <th>retweet_date</th>\n",
              "      <th>translate</th>\n",
              "      <th>trans_src</th>\n",
              "      <th>trans_dest</th>\n",
              "    </tr>\n",
              "  </thead>\n",
              "  <tbody>\n",
              "    <tr>\n",
              "      <th>0</th>\n",
              "      <td>1588256532122042369</td>\n",
              "      <td>1588096383910821890</td>\n",
              "      <td>2022-11-03 14:47:20 Central Daylight Time</td>\n",
              "      <td>2022-11-03</td>\n",
              "      <td>14:47:20</td>\n",
              "      <td>-500</td>\n",
              "      <td>1373934185547710467</td>\n",
              "      <td>boringlogic</td>\n",
              "      <td>Boring Logic</td>\n",
              "      <td>NaN</td>\n",
              "      <td>...</td>\n",
              "      <td>NaN</td>\n",
              "      <td>NaN</td>\n",
              "      <td>NaN</td>\n",
              "      <td>NaN</td>\n",
              "      <td>NaN</td>\n",
              "      <td>[{'screen_name': 'GEOLIAM5', 'name': 'GEOLIAM'...</td>\n",
              "      <td>NaN</td>\n",
              "      <td>NaN</td>\n",
              "      <td>NaN</td>\n",
              "      <td>NaN</td>\n",
              "    </tr>\n",
              "    <tr>\n",
              "      <th>1</th>\n",
              "      <td>1588256480549277697</td>\n",
              "      <td>1587583430858280960</td>\n",
              "      <td>2022-11-03 14:47:07 Central Daylight Time</td>\n",
              "      <td>2022-11-03</td>\n",
              "      <td>14:47:07</td>\n",
              "      <td>-500</td>\n",
              "      <td>18587971</td>\n",
              "      <td>leidegre</td>\n",
              "      <td>John Leidegren</td>\n",
              "      <td>NaN</td>\n",
              "      <td>...</td>\n",
              "      <td>NaN</td>\n",
              "      <td>NaN</td>\n",
              "      <td>NaN</td>\n",
              "      <td>NaN</td>\n",
              "      <td>NaN</td>\n",
              "      <td>[{'screen_name': 'molecularmusing', 'name': 'S...</td>\n",
              "      <td>NaN</td>\n",
              "      <td>NaN</td>\n",
              "      <td>NaN</td>\n",
              "      <td>NaN</td>\n",
              "    </tr>\n",
              "    <tr>\n",
              "      <th>2</th>\n",
              "      <td>1588256359597776896</td>\n",
              "      <td>1588256359597776896</td>\n",
              "      <td>2022-11-03 14:46:39 Central Daylight Time</td>\n",
              "      <td>2022-11-03</td>\n",
              "      <td>14:46:39</td>\n",
              "      <td>-500</td>\n",
              "      <td>1381993715879804932</td>\n",
              "      <td>cheesem45226635</td>\n",
              "      <td>Trading Signals</td>\n",
              "      <td>NaN</td>\n",
              "      <td>...</td>\n",
              "      <td>NaN</td>\n",
              "      <td>NaN</td>\n",
              "      <td>NaN</td>\n",
              "      <td>NaN</td>\n",
              "      <td>NaN</td>\n",
              "      <td>[]</td>\n",
              "      <td>NaN</td>\n",
              "      <td>NaN</td>\n",
              "      <td>NaN</td>\n",
              "      <td>NaN</td>\n",
              "    </tr>\n",
              "    <tr>\n",
              "      <th>3</th>\n",
              "      <td>1588256294531915776</td>\n",
              "      <td>1588256294531915776</td>\n",
              "      <td>2022-11-03 14:46:23 Central Daylight Time</td>\n",
              "      <td>2022-11-03</td>\n",
              "      <td>14:46:23</td>\n",
              "      <td>-500</td>\n",
              "      <td>1040063449315733505</td>\n",
              "      <td>dorayakiblog</td>\n",
              "      <td>dorayaki</td>\n",
              "      <td>NaN</td>\n",
              "      <td>...</td>\n",
              "      <td>NaN</td>\n",
              "      <td>NaN</td>\n",
              "      <td>NaN</td>\n",
              "      <td>NaN</td>\n",
              "      <td>NaN</td>\n",
              "      <td>[]</td>\n",
              "      <td>NaN</td>\n",
              "      <td>NaN</td>\n",
              "      <td>NaN</td>\n",
              "      <td>NaN</td>\n",
              "    </tr>\n",
              "    <tr>\n",
              "      <th>4</th>\n",
              "      <td>1588256267851550721</td>\n",
              "      <td>1588256267851550721</td>\n",
              "      <td>2022-11-03 14:46:17 Central Daylight Time</td>\n",
              "      <td>2022-11-03</td>\n",
              "      <td>14:46:17</td>\n",
              "      <td>-500</td>\n",
              "      <td>1114308687261261824</td>\n",
              "      <td>damoncroberts</td>\n",
              "      <td>Damon Roberts</td>\n",
              "      <td>NaN</td>\n",
              "      <td>...</td>\n",
              "      <td>NaN</td>\n",
              "      <td>NaN</td>\n",
              "      <td>NaN</td>\n",
              "      <td>NaN</td>\n",
              "      <td>NaN</td>\n",
              "      <td>[]</td>\n",
              "      <td>NaN</td>\n",
              "      <td>NaN</td>\n",
              "      <td>NaN</td>\n",
              "      <td>NaN</td>\n",
              "    </tr>\n",
              "  </tbody>\n",
              "</table>\n",
              "<p>5 rows × 36 columns</p>\n",
              "</div>"
            ],
            "text/plain": [
              "                    id      conversation_id  \\\n",
              "0  1588256532122042369  1588096383910821890   \n",
              "1  1588256480549277697  1587583430858280960   \n",
              "2  1588256359597776896  1588256359597776896   \n",
              "3  1588256294531915776  1588256294531915776   \n",
              "4  1588256267851550721  1588256267851550721   \n",
              "\n",
              "                                  created_at        date      time  timezone  \\\n",
              "0  2022-11-03 14:47:20 Central Daylight Time  2022-11-03  14:47:20      -500   \n",
              "1  2022-11-03 14:47:07 Central Daylight Time  2022-11-03  14:47:07      -500   \n",
              "2  2022-11-03 14:46:39 Central Daylight Time  2022-11-03  14:46:39      -500   \n",
              "3  2022-11-03 14:46:23 Central Daylight Time  2022-11-03  14:46:23      -500   \n",
              "4  2022-11-03 14:46:17 Central Daylight Time  2022-11-03  14:46:17      -500   \n",
              "\n",
              "               user_id         username             name  place  ... geo  \\\n",
              "0  1373934185547710467      boringlogic     Boring Logic    NaN  ... NaN   \n",
              "1             18587971         leidegre   John Leidegren    NaN  ... NaN   \n",
              "2  1381993715879804932  cheesem45226635  Trading Signals    NaN  ... NaN   \n",
              "3  1040063449315733505     dorayakiblog         dorayaki    NaN  ... NaN   \n",
              "4  1114308687261261824    damoncroberts    Damon Roberts    NaN  ... NaN   \n",
              "\n",
              "  source user_rt_id user_rt retweet_id  \\\n",
              "0    NaN        NaN     NaN        NaN   \n",
              "1    NaN        NaN     NaN        NaN   \n",
              "2    NaN        NaN     NaN        NaN   \n",
              "3    NaN        NaN     NaN        NaN   \n",
              "4    NaN        NaN     NaN        NaN   \n",
              "\n",
              "                                            reply_to  retweet_date  translate  \\\n",
              "0  [{'screen_name': 'GEOLIAM5', 'name': 'GEOLIAM'...           NaN        NaN   \n",
              "1  [{'screen_name': 'molecularmusing', 'name': 'S...           NaN        NaN   \n",
              "2                                                 []           NaN        NaN   \n",
              "3                                                 []           NaN        NaN   \n",
              "4                                                 []           NaN        NaN   \n",
              "\n",
              "  trans_src trans_dest  \n",
              "0       NaN        NaN  \n",
              "1       NaN        NaN  \n",
              "2       NaN        NaN  \n",
              "3       NaN        NaN  \n",
              "4       NaN        NaN  \n",
              "\n",
              "[5 rows x 36 columns]"
            ]
          },
          "execution_count": 6,
          "metadata": {},
          "output_type": "execute_result"
        }
      ],
      "source": [
        "data.head()"
      ]
    },
    {
      "cell_type": "code",
      "execution_count": null,
      "metadata": {
        "colab": {
          "base_uri": "https://localhost:8080/"
        },
        "id": "2J9B-Yc7C6Ux",
        "outputId": "5799031f-111d-41df-af16-123a7962d80e"
      },
      "outputs": [
        {
          "data": {
            "text/plain": [
              "Index(['id', 'conversation_id', 'created_at', 'date', 'time', 'timezone',\n",
              "       'user_id', 'username', 'name', 'place', 'tweet', 'language', 'mentions',\n",
              "       'urls', 'photos', 'replies_count', 'retweets_count', 'likes_count',\n",
              "       'hashtags', 'cashtags', 'link', 'retweet', 'quote_url', 'video',\n",
              "       'thumbnail', 'near', 'geo', 'source', 'user_rt_id', 'user_rt',\n",
              "       'retweet_id', 'reply_to', 'retweet_date', 'translate', 'trans_src',\n",
              "       'trans_dest'],\n",
              "      dtype='object')"
            ]
          },
          "execution_count": 276,
          "metadata": {},
          "output_type": "execute_result"
        }
      ],
      "source": [
        "data.columns"
      ]
    },
    {
      "cell_type": "code",
      "execution_count": 7,
      "metadata": {
        "id": "MFjnL3yHDF_q"
      },
      "outputs": [],
      "source": [
        "data.drop(columns=['id', 'conversation_id', 'created_at', 'date', 'time', 'timezone',\n",
        "       'user_id', 'username', 'name', 'place', 'mentions',\n",
        "       'urls', 'photos', 'replies_count', 'retweets_count', 'likes_count',\n",
        "       'hashtags', 'cashtags', 'link', 'retweet', 'quote_url', 'video',\n",
        "       'thumbnail', 'near', 'geo', 'source', 'user_rt_id', 'user_rt',\n",
        "       'retweet_id', 'reply_to', 'retweet_date', 'translate', 'trans_src',\n",
        "       'trans_dest'], inplace=True)"
      ]
    },
    {
      "cell_type": "code",
      "execution_count": 8,
      "metadata": {
        "id": "0Xui-jWdDVJt"
      },
      "outputs": [
        {
          "data": {
            "text/html": [
              "<div>\n",
              "<style scoped>\n",
              "    .dataframe tbody tr th:only-of-type {\n",
              "        vertical-align: middle;\n",
              "    }\n",
              "\n",
              "    .dataframe tbody tr th {\n",
              "        vertical-align: top;\n",
              "    }\n",
              "\n",
              "    .dataframe thead th {\n",
              "        text-align: right;\n",
              "    }\n",
              "</style>\n",
              "<table border=\"1\" class=\"dataframe\">\n",
              "  <thead>\n",
              "    <tr style=\"text-align: right;\">\n",
              "      <th></th>\n",
              "      <th>tweet</th>\n",
              "      <th>language</th>\n",
              "    </tr>\n",
              "  </thead>\n",
              "  <tbody>\n",
              "    <tr>\n",
              "      <th>468</th>\n",
              "      <td>@Ann150000 而且特爱抱怨，搞得自己是局外人一样；动不动就得手把手pair-codi...</td>\n",
              "      <td>zh</td>\n",
              "    </tr>\n",
              "    <tr>\n",
              "      <th>280</th>\n",
              "      <td>@hussien_coding 🫶</td>\n",
              "      <td>und</td>\n",
              "    </tr>\n",
              "    <tr>\n",
              "      <th>94</th>\n",
              "      <td>@EnuguGod @morozov_dev Na una handiwork. Ndị c...</td>\n",
              "      <td>tl</td>\n",
              "    </tr>\n",
              "    <tr>\n",
              "      <th>378</th>\n",
              "      <td>@coding_jay @istdochechtegal @ChastoEv @danger...</td>\n",
              "      <td>qme</td>\n",
              "    </tr>\n",
              "    <tr>\n",
              "      <th>102</th>\n",
              "      <td>@clcoding @SaveToNotion #programming #thread</td>\n",
              "      <td>qme</td>\n",
              "    </tr>\n",
              "    <tr>\n",
              "      <th>...</th>\n",
              "      <td>...</td>\n",
              "      <td>...</td>\n",
              "    </tr>\n",
              "    <tr>\n",
              "      <th>185</th>\n",
              "      <td>@HerrDela @Leon_Bergmann Beides ist extrem eas...</td>\n",
              "      <td>de</td>\n",
              "    </tr>\n",
              "    <tr>\n",
              "      <th>435</th>\n",
              "      <td>@coding_jay @istdochechtegal @ChastoEv @danger...</td>\n",
              "      <td>de</td>\n",
              "    </tr>\n",
              "    <tr>\n",
              "      <th>384</th>\n",
              "      <td>@coding_jay @Hippietante11 @istdochechtegal @C...</td>\n",
              "      <td>de</td>\n",
              "    </tr>\n",
              "    <tr>\n",
              "      <th>335</th>\n",
              "      <td>https://t.co/HnN8q8ldeb  Genetic Algorithms w...</td>\n",
              "      <td>cy</td>\n",
              "    </tr>\n",
              "    <tr>\n",
              "      <th>350</th>\n",
              "      <td>Activitats amb les #Beebot a @EducacioUB. Futu...</td>\n",
              "      <td>ca</td>\n",
              "    </tr>\n",
              "  </tbody>\n",
              "</table>\n",
              "<p>510 rows × 2 columns</p>\n",
              "</div>"
            ],
            "text/plain": [
              "                                                 tweet language\n",
              "468  @Ann150000 而且特爱抱怨，搞得自己是局外人一样；动不动就得手把手pair-codi...       zh\n",
              "280                                  @hussien_coding 🫶      und\n",
              "94   @EnuguGod @morozov_dev Na una handiwork. Ndị c...       tl\n",
              "378  @coding_jay @istdochechtegal @ChastoEv @danger...      qme\n",
              "102       @clcoding @SaveToNotion #programming #thread      qme\n",
              "..                                                 ...      ...\n",
              "185  @HerrDela @Leon_Bergmann Beides ist extrem eas...       de\n",
              "435  @coding_jay @istdochechtegal @ChastoEv @danger...       de\n",
              "384  @coding_jay @Hippietante11 @istdochechtegal @C...       de\n",
              "335   https://t.co/HnN8q8ldeb  Genetic Algorithms w...       cy\n",
              "350  Activitats amb les #Beebot a @EducacioUB. Futu...       ca\n",
              "\n",
              "[510 rows x 2 columns]"
            ]
          },
          "execution_count": 8,
          "metadata": {},
          "output_type": "execute_result"
        }
      ],
      "source": [
        "data.sort_values(\"language\", ascending=False)"
      ]
    },
    {
      "cell_type": "markdown",
      "metadata": {
        "id": "0cFeuoKrDzdt"
      },
      "source": [
        "NLP Coding section 🖥️"
      ]
    },
    {
      "cell_type": "code",
      "execution_count": 9,
      "metadata": {
        "id": "_5F8xIf-Mi6Y"
      },
      "outputs": [],
      "source": [
        "#-------Custom dictionary for emojis conversion-------------#\n",
        "\n",
        "my_dict = {\n",
        "    \"❤\":\"love\",\n",
        "    \"❤️\":\"love\",\n",
        "    \"😊\":\"happy\",\n",
        "    \"🥰\":\"happy and loved\",\n",
        "    \"😍\":\"love it\",\n",
        "    \"🙏\":\"hoping\",\n",
        "    \"🤣\":\"very funny\",\n",
        "    \"🥺\":\"sad\",\n",
        "    \"👍\":\"like it\"\n",
        "}"
      ]
    },
    {
      "cell_type": "code",
      "execution_count": 10,
      "metadata": {
        "id": "xzmZw9jGD3OT"
      },
      "outputs": [],
      "source": [
        "def to_english(data):\n",
        "  translator = Translator()\n",
        "  data = translator.translate(data, dest=\"en\")\n",
        "  return data.text"
      ]
    },
    {
      "cell_type": "code",
      "execution_count": 11,
      "metadata": {
        "id": "52s_WRP_GYBZ"
      },
      "outputs": [],
      "source": [
        "def url_parsing(data):\n",
        "  data = re.sub(r\"\\shttp\\S+\", \"\", data)\n",
        "\n",
        "#-----------get the domain----------------#\n",
        "  # tokenized_data = [token.text for token in nlp(data)]\n",
        "  # parsed_data = [urlparse(token)[1] if token.startswith(\"http\") else token for token in tokenized_data]\n",
        "  # data = \" \".join(parsed_data)\n",
        "  \n",
        "  return data "
      ]
    },
    {
      "cell_type": "code",
      "execution_count": 12,
      "metadata": {
        "id": "atHvG4_ILA1U"
      },
      "outputs": [],
      "source": [
        "def emoji_to_text(data):\n",
        "  tokenized_data = [token.text for token in nlp(data)]\n",
        "  custom_text = [my_dict[token] if token in my_dict else emoji.demojize(token) for token in tokenized_data]\n",
        "  data = \" \".join(custom_text)\n",
        "  return data\n"
      ]
    },
    {
      "cell_type": "code",
      "execution_count": 13,
      "metadata": {
        "id": "5tqn_wW8O_as"
      },
      "outputs": [],
      "source": [
        "def data_cleaning(data):\n",
        "  data = re.sub(r\"@[A-Za-z0-9-_]+\", \"User\", data)  #------to replace @name by User\n",
        "  data = re.sub(\"_|-\", \" \", data)                  #------to remove underscores and dashes\n",
        "  data = re.sub(r\"[^#%'.,+&A-Za-z0-9]\", \" \", data) #------to remove some non-alphanumeric characters\n",
        "  data = re.sub(r\"(?<!C)#\", \"\", data, flags=re.I)  #------to exclude the preceeded by C\n",
        "  data = re.sub(\"'r|\\sr\\s\", \" are \", data)         #------to normalize the \"are\"\n",
        "  data = re.sub(r\"(.)\\1+\", r\"\\1\\1\", data, flags=re.I)#----to remove repeated letters\n",
        "  data = re.sub(r\"(?<![A-Z])(?=[A-Z])\", \" \", data) #------to convert CamelCase to normal case\n",
        "  data = re.sub(r\"\\s(\\w+)\\s\\1+\", r\" \\1\", data, flags=re.I).lower()#-to remove repeated words\n",
        "  data = re.sub(r\"\\s+\", \" \", data)                 #------to remove any extra space\n",
        "  data = re.sub(r\"\\s?(i)\\s\", \" I \", data).lstrip() #------to replace \"i\" with \"I\"\n",
        "#------------profanity filter----------------#\n",
        "  profanity.load_censor_words()\n",
        "  data = profanity.censor(data)\n",
        "\n",
        "  return data\n"
      ]
    },
    {
      "cell_type": "code",
      "execution_count": 14,
      "metadata": {
        "id": "vxNjVTkT1OqY"
      },
      "outputs": [],
      "source": [
        "def sentiment_analysis(data):\n",
        "  data = TextBlob(data)\n",
        "  data = data.sentiment.polarity\n",
        "  if data == 0:\n",
        "    return \"Neutral\"\n",
        "  elif data < 0:\n",
        "    return \"Negative\"\n",
        "  else:\n",
        "    return \"Positive\"\n"
      ]
    },
    {
      "cell_type": "code",
      "execution_count": 15,
      "metadata": {
        "id": "-QYP1Jgl3Uak"
      },
      "outputs": [],
      "source": [
        "def word_cloud(data):\n",
        "\n",
        "  text = data\n",
        "\n",
        "  x, y = np.ogrid[:300, :300]\n",
        "\n",
        "  mask = (x - 150) ** 2 + (y - 150) ** 2 > 130 ** 2\n",
        "  mask = 255 * mask.astype(int)\n",
        "\n",
        "\n",
        "  wc = WordCloud(background_color=\"white\", repeat=True, mask=mask, stopwords=STOPWORDS)\n",
        "  wc.generate(text)\n",
        "\n",
        "  plt.axis(\"off\")\n",
        "  plt.imshow(wc, interpolation=\"bilinear\")\n",
        "  plt.show()\n",
        "\n"
      ]
    },
    {
      "cell_type": "code",
      "execution_count": 16,
      "metadata": {
        "id": "VEmqf4Lfjp2J"
      },
      "outputs": [],
      "source": [
        "data[\"translation\"] = data[\"tweet\"].apply(to_english)"
      ]
    },
    {
      "cell_type": "code",
      "execution_count": 17,
      "metadata": {
        "id": "OFo8pmAgiI5j"
      },
      "outputs": [],
      "source": [
        "data[\"translation\"] = data[\"translation\"].apply(url_parsing)"
      ]
    },
    {
      "cell_type": "code",
      "execution_count": 18,
      "metadata": {
        "id": "IfPf9L8LiKrX"
      },
      "outputs": [],
      "source": [
        "data[\"translation\"] = data[\"translation\"].apply(emoji_to_text)"
      ]
    },
    {
      "cell_type": "code",
      "execution_count": 19,
      "metadata": {
        "id": "jxxqdrjIiZB3"
      },
      "outputs": [],
      "source": [
        "data[\"translation\"] = data[\"translation\"].apply(data_cleaning)\n"
      ]
    },
    {
      "cell_type": "code",
      "execution_count": 20,
      "metadata": {
        "id": "4yDLLLBGkOlD"
      },
      "outputs": [],
      "source": [
        "data[\"sentiment\"] = data[\"translation\"].apply(sentiment_analysis)"
      ]
    },
    {
      "cell_type": "code",
      "execution_count": 21,
      "metadata": {
        "colab": {
          "base_uri": "https://localhost:8080/",
          "height": 1634
        },
        "id": "DvbqBT9Us4oa",
        "outputId": "8548f52f-8e75-4d5b-c63c-8c93a099b878"
      },
      "outputs": [
        {
          "data": {
            "text/html": [
              "<div>\n",
              "<style scoped>\n",
              "    .dataframe tbody tr th:only-of-type {\n",
              "        vertical-align: middle;\n",
              "    }\n",
              "\n",
              "    .dataframe tbody tr th {\n",
              "        vertical-align: top;\n",
              "    }\n",
              "\n",
              "    .dataframe thead th {\n",
              "        text-align: right;\n",
              "    }\n",
              "</style>\n",
              "<table border=\"1\" class=\"dataframe\">\n",
              "  <thead>\n",
              "    <tr style=\"text-align: right;\">\n",
              "      <th></th>\n",
              "      <th>tweet</th>\n",
              "      <th>language</th>\n",
              "      <th>sentiment</th>\n",
              "      <th>translation</th>\n",
              "    </tr>\n",
              "  </thead>\n",
              "  <tbody>\n",
              "    <tr>\n",
              "      <th>0</th>\n",
              "      <td>@GEOLIAM5 @Amooti_Mami Are you interested in l...</td>\n",
              "      <td>en</td>\n",
              "      <td>Positive</td>\n",
              "      <td>user user are you interested in learning any t...</td>\n",
              "    </tr>\n",
              "    <tr>\n",
              "      <th>1</th>\n",
              "      <td>@molecularmusing Currently doing some - not ve...</td>\n",
              "      <td>en</td>\n",
              "      <td>Negative</td>\n",
              "      <td>user currently doing some not very hot coding ...</td>\n",
              "    </tr>\n",
              "    <tr>\n",
              "      <th>2</th>\n",
              "      <td>Replace paper forms with̗ a mobile app.  No co...</td>\n",
              "      <td>en</td>\n",
              "      <td>Positive</td>\n",
              "      <td>replace paper forms with a mobile app . no cod...</td>\n",
              "    </tr>\n",
              "    <tr>\n",
              "      <th>3</th>\n",
              "      <td>Difference of webStorage between localStorage ...</td>\n",
              "      <td>en</td>\n",
              "      <td>Neutral</td>\n",
              "      <td>difference of web storage between local storag...</td>\n",
              "    </tr>\n",
              "    <tr>\n",
              "      <th>4</th>\n",
              "      <td>I’m coding why do you ask?  https://t.co/W8e0Z...</td>\n",
              "      <td>en</td>\n",
              "      <td>Neutral</td>\n",
              "      <td>I m coding why do you ask</td>\n",
              "    </tr>\n",
              "    <tr>\n",
              "      <th>...</th>\n",
              "      <td>...</td>\n",
              "      <td>...</td>\n",
              "      <td>...</td>\n",
              "      <td>...</td>\n",
              "    </tr>\n",
              "    <tr>\n",
              "      <th>505</th>\n",
              "      <td>I have only messed around with programming bef...</td>\n",
              "      <td>en</td>\n",
              "      <td>Negative</td>\n",
              "      <td>I have only messed around with programming bef...</td>\n",
              "    </tr>\n",
              "    <tr>\n",
              "      <th>506</th>\n",
              "      <td>First ever pencil and paper coding exam was a ...</td>\n",
              "      <td>en</td>\n",
              "      <td>Positive</td>\n",
              "      <td>first ever pencil and paper coding exam was a ...</td>\n",
              "    </tr>\n",
              "    <tr>\n",
              "      <th>507</th>\n",
              "      <td>U think Jamie Dimon or Frank Carone or Jabari ...</td>\n",
              "      <td>en</td>\n",
              "      <td>Neutral</td>\n",
              "      <td>u think jamie dimon or frank carone or jabar I...</td>\n",
              "    </tr>\n",
              "    <tr>\n",
              "      <th>508</th>\n",
              "      <td>I think the difference between data scientist ...</td>\n",
              "      <td>en</td>\n",
              "      <td>Positive</td>\n",
              "      <td>I think the difference between data scientist ...</td>\n",
              "    </tr>\n",
              "    <tr>\n",
              "      <th>509</th>\n",
              "      <td>@amitmish1 I try to break writing / coding dow...</td>\n",
              "      <td>en</td>\n",
              "      <td>Negative</td>\n",
              "      <td>user I try to break writing coding down into s...</td>\n",
              "    </tr>\n",
              "  </tbody>\n",
              "</table>\n",
              "<p>510 rows × 4 columns</p>\n",
              "</div>"
            ],
            "text/plain": [
              "                                                 tweet language sentiment  \\\n",
              "0    @GEOLIAM5 @Amooti_Mami Are you interested in l...       en  Positive   \n",
              "1    @molecularmusing Currently doing some - not ve...       en  Negative   \n",
              "2    Replace paper forms with̗ a mobile app.  No co...       en  Positive   \n",
              "3    Difference of webStorage between localStorage ...       en   Neutral   \n",
              "4    I’m coding why do you ask?  https://t.co/W8e0Z...       en   Neutral   \n",
              "..                                                 ...      ...       ...   \n",
              "505  I have only messed around with programming bef...       en  Negative   \n",
              "506  First ever pencil and paper coding exam was a ...       en  Positive   \n",
              "507  U think Jamie Dimon or Frank Carone or Jabari ...       en   Neutral   \n",
              "508  I think the difference between data scientist ...       en  Positive   \n",
              "509  @amitmish1 I try to break writing / coding dow...       en  Negative   \n",
              "\n",
              "                                           translation  \n",
              "0    user user are you interested in learning any t...  \n",
              "1    user currently doing some not very hot coding ...  \n",
              "2    replace paper forms with a mobile app . no cod...  \n",
              "3    difference of web storage between local storag...  \n",
              "4                           I m coding why do you ask   \n",
              "..                                                 ...  \n",
              "505  I have only messed around with programming bef...  \n",
              "506  first ever pencil and paper coding exam was a ...  \n",
              "507  u think jamie dimon or frank carone or jabar I...  \n",
              "508  I think the difference between data scientist ...  \n",
              "509  user I try to break writing coding down into s...  \n",
              "\n",
              "[510 rows x 4 columns]"
            ]
          },
          "execution_count": 21,
          "metadata": {},
          "output_type": "execute_result"
        }
      ],
      "source": [
        "data[[\"tweet\", \"language\", \"sentiment\", \"translation\"]]"
      ]
    },
    {
      "cell_type": "markdown",
      "metadata": {
        "id": "SSppkeDNIBX1"
      },
      "source": [
        "Data Visualization 📊"
      ]
    },
    {
      "cell_type": "code",
      "execution_count": 22,
      "metadata": {
        "id": "q198azag2Wx0"
      },
      "outputs": [],
      "source": [
        "all_tweets = \" \".join([tweet for tweet in data.translation])"
      ]
    },
    {
      "cell_type": "code",
      "execution_count": 23,
      "metadata": {
        "colab": {
          "base_uri": "https://localhost:8080/",
          "height": 248
        },
        "id": "DrlY856k4tvD",
        "outputId": "188f6f83-b8e8-41e2-f46e-db2125f37a44"
      },
      "outputs": [
        {
          "data": {
            "image/png": "[encoded data removed]",
            "text/plain": [
              "<Figure size 640x480 with 1 Axes>"
            ]
          },
          "metadata": {},
          "output_type": "display_data"
        }
      ],
      "source": [
        "word_cloud(all_tweets)"
      ]
    },
    {
      "cell_type": "code",
      "execution_count": 24,
      "metadata": {
        "id": "BCIbZYBH4081"
      },
      "outputs": [
        {
          "ename": "NameError",
          "evalue": "name 'sns' is not defined",
          "output_type": "error",
          "traceback": [
            "\u001b[1;31m---------------------------------------------------------------------------\u001b[0m",
            "\u001b[1;31mNameError\u001b[0m                                 Traceback (most recent call last)",
            "Cell \u001b[1;32mIn [24], line 3\u001b[0m\n\u001b[0;32m      1\u001b[0m \u001b[38;5;66;03m#------------Run this sell for a quick visualization of the sentiment distribution------#\u001b[39;00m\n\u001b[0;32m      2\u001b[0m fig \u001b[38;5;241m=\u001b[39m plt\u001b[38;5;241m.\u001b[39mfigure(figsize\u001b[38;5;241m=\u001b[39m(\u001b[38;5;241m5\u001b[39m,\u001b[38;5;241m5\u001b[39m))\n\u001b[1;32m----> 3\u001b[0m \u001b[43msns\u001b[49m\u001b[38;5;241m.\u001b[39mcountplot(x\u001b[38;5;241m=\u001b[39m\u001b[38;5;124m'\u001b[39m\u001b[38;5;124msentiment\u001b[39m\u001b[38;5;124m'\u001b[39m, data\u001b[38;5;241m=\u001b[39m data)\n",
            "\u001b[1;31mNameError\u001b[0m: name 'sns' is not defined"
          ]
        },
        {
          "data": {
            "text/plain": [
              "<Figure size 500x500 with 0 Axes>"
            ]
          },
          "metadata": {},
          "output_type": "display_data"
        }
      ],
      "source": [
        "#------------Run this sell for a quick visualization of the sentiment distribution------#\n",
        "fig = plt.figure(figsize=(5,5))\n",
        "sns.countplot(x='sentiment', data= data)"
      ]
    },
    {
      "cell_type": "markdown",
      "metadata": {
        "id": "kVDqFZfbPpyU"
      },
      "source": [
        "Debrief 🤝\n",
        "\n",
        "\n",
        "\n",
        "*   What worked well?\n",
        "*   What did you learn from my tutorial?\n",
        "*   Did you manage to customize it for your own use case?\n",
        "\n",
        "\n",
        "\n",
        "\n",
        "\n",
        "\n",
        "\n",
        "\n"
      ]
    }
  ],
  "metadata": {
    "colab": {
      "authorship_tag": "ABX9TyMx7RwHGSNh3wayy256kvQQ",
      "collapsed_sections": [],
      "include_colab_link": true,
      "provenance": []
    },
    "kernelspec": {
      "display_name": "Python 3",
      "name": "python3"
    },
    "language_info": {
      "codemirror_mode": {
        "name": "ipython",
        "version": 3
      },
      "file_extension": ".py",
      "mimetype": "text/x-python",
      "name": "python",
      "nbconvert_exporter": "python",
      "pygments_lexer": "ipython3",
      "version": "3.9.13"
    }
  },
  "nbformat": 4,
  "nbformat_minor": 0
}
